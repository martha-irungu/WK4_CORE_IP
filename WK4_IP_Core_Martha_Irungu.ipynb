{
  "nbformat": 4,
  "nbformat_minor": 0,
  "metadata": {
    "colab": {
      "name": "WK4 IP_Core_Martha Irungu",
      "provenance": [],
      "collapsed_sections": [],
      "authorship_tag": "ABX9TyO07lyL3XbH7qkh07FVQv8V",
      "include_colab_link": true
    },
    "kernelspec": {
      "name": "python3",
      "display_name": "Python 3"
    }
  },
  "cells": [
    {
      "cell_type": "markdown",
      "metadata": {
        "id": "view-in-github",
        "colab_type": "text"
      },
      "source": [
        "<a href=\"https://colab.research.google.com/github/martha-irungu/WK4_CORE_IP/blob/master/WK4_IP_Core_Martha_Irungu.ipynb\" target=\"_parent\"><img src=\"https://colab.research.google.com/assets/colab-badge.svg\" alt=\"Open In Colab\"/></a>"
      ]
    },
    {
      "cell_type": "markdown",
      "metadata": {
        "id": "juysfNMy8Igc",
        "colab_type": "text"
      },
      "source": [
        "1.Defining the problem\n",
        "\n",
        "The research problem was to perform a hypothesis testing to investigate a claim; blue cars taken on weekdays is the same as blue cars taken over the weekend\n",
        ": Ho= mu1-mu2=0\n",
        ": H1= mu1-mu2!=0\n",
        "\n",
        "b)Defining the Metric for Success\n",
        "\n",
        "•\tClearly stating a null hypothesis and alternative hypothesis\n",
        "•\tClearly stating an alternative hypothesis\n",
        "•\tGive the value of the test statistic\n",
        "•\tReport the P-value\n",
        "•\tClearly state your conclusion (i.e. ‘Reject the Null’ is not sufficient\n",
        "\n",
        "\n",
        "c) Understanding the context\n",
        "\n",
        "Autolib’ was an electric car-sharing company owned by Bollore industrial group that operated in France in multiple cities including Paris between 2011 and 31st July 2018. Autolib owned cars which were which could be leased by public and returned after use. Since they were electric cars, there were charging stations located at different locations where customers could pick and drop back the cars after use.\n",
        "\n",
        "The model of electric cars used by Autolib was:\n",
        "•\tBlue car - A passenger electric car.\n",
        "More background details about this car are available on this link\n",
        "•\tUtilib car - This is a red-blue car. Apart from the passenger model, it has a delivery variant that has two seats to create more space for cargo. It’s red in color.\n",
        "•\tUtilib 1.4\n",
        "\n",
        "I am working as a data scientist for Autolib, the car-sharing service company. I have been tasked by the management to investigate a claim that the population mean of blue cars taken in weekdays is the same as that taken over the weekend. \n",
        "\n",
        ": Ho= mu1-mu2=0\n",
        ": H1= mu1-mu2!=0\n",
        "\n",
        "\n",
        "d) Recording the Experimental Design\n",
        "\n",
        "Below are the steps i took to implement this solution\n",
        "\n",
        "1) Business Understanding: This sheds light to the context of the business question that we are trying to answer hence keep the focus during the data analysis so that we meet the intended objective.\n",
        "\n",
        "2) Reading the data: Reading our data with and aim to understand the variables and observations.\n",
        "\n",
        "3) Checking our data: This to get details about the dataset, the number of records, the statistal summary,the datatypes in our dataset among others.\n",
        "\n",
        "4) Tidying the data, I performed all my data cleaning and preparation to make my data ready for analysis.\n",
        "\n",
        "5) EDA, the data was analysed and visualized.\n",
        "\n",
        "6) Implementing hypothesis testing\n",
        "\n",
        "7)Conclusion\n",
        "\n",
        "\n",
        "\n",
        "e) Data Relevance\n",
        "\n",
        "The data was sourced from Autolib, an electric car sharing company, hence relevant for the research question."
      ]
    },
    {
      "cell_type": "markdown",
      "metadata": {
        "id": "mnPNHTakrUY7",
        "colab_type": "text"
      },
      "source": [
        "#2. Reading the data"
      ]
    },
    {
      "cell_type": "code",
      "metadata": {
        "id": "tovuFxeA8QYO",
        "colab_type": "code",
        "colab": {}
      },
      "source": [
        "#Importing the libraries that we need\n",
        "import pandas as pd\n",
        "import numpy as np\n",
        "import seaborn as sns\n",
        "import matplotlib\n",
        "from matplotlib import pyplot as plt\n",
        "from scipy.stats import ttest_1samp\n",
        "from scipy.stats import ttest_ind\n",
        "from scipy import stats as st"
      ],
      "execution_count": null,
      "outputs": []
    },
    {
      "cell_type": "markdown",
      "metadata": {
        "id": "X07TGFlJriyd",
        "colab_type": "text"
      },
      "source": [
        "#3. Checking the Data"
      ]
    },
    {
      "cell_type": "code",
      "metadata": {
        "id": "NDrP-bsvvRpw",
        "colab_type": "code",
        "colab": {
          "base_uri": "https://localhost:8080/",
          "height": 234
        },
        "outputId": "726e8b01-0f4c-4672-d0de-4514c7e43a69"
      },
      "source": [
        "#Previewing the top 5 records of our dataset\n",
        "df=pd.read_csv('autolib.csv')\n",
        "df.head()"
      ],
      "execution_count": null,
      "outputs": [
        {
          "output_type": "execute_result",
          "data": {
            "text/html": [
              "<div>\n",
              "<style scoped>\n",
              "    .dataframe tbody tr th:only-of-type {\n",
              "        vertical-align: middle;\n",
              "    }\n",
              "\n",
              "    .dataframe tbody tr th {\n",
              "        vertical-align: top;\n",
              "    }\n",
              "\n",
              "    .dataframe thead th {\n",
              "        text-align: right;\n",
              "    }\n",
              "</style>\n",
              "<table border=\"1\" class=\"dataframe\">\n",
              "  <thead>\n",
              "    <tr style=\"text-align: right;\">\n",
              "      <th></th>\n",
              "      <th>Postal code</th>\n",
              "      <th>date</th>\n",
              "      <th>n_daily_data_points</th>\n",
              "      <th>dayOfWeek</th>\n",
              "      <th>day_type</th>\n",
              "      <th>BlueCars_taken_sum</th>\n",
              "      <th>BlueCars_returned_sum</th>\n",
              "      <th>Utilib_taken_sum</th>\n",
              "      <th>Utilib_returned_sum</th>\n",
              "      <th>Utilib_14_taken_sum</th>\n",
              "      <th>Utilib_14_returned_sum</th>\n",
              "      <th>Slots_freed_sum</th>\n",
              "      <th>Slots_taken_sum</th>\n",
              "    </tr>\n",
              "  </thead>\n",
              "  <tbody>\n",
              "    <tr>\n",
              "      <th>0</th>\n",
              "      <td>75001</td>\n",
              "      <td>1/1/2018</td>\n",
              "      <td>1440</td>\n",
              "      <td>0</td>\n",
              "      <td>weekday</td>\n",
              "      <td>110</td>\n",
              "      <td>103</td>\n",
              "      <td>3</td>\n",
              "      <td>2</td>\n",
              "      <td>10</td>\n",
              "      <td>9</td>\n",
              "      <td>22</td>\n",
              "      <td>20</td>\n",
              "    </tr>\n",
              "    <tr>\n",
              "      <th>1</th>\n",
              "      <td>75001</td>\n",
              "      <td>1/2/2018</td>\n",
              "      <td>1438</td>\n",
              "      <td>1</td>\n",
              "      <td>weekday</td>\n",
              "      <td>98</td>\n",
              "      <td>94</td>\n",
              "      <td>1</td>\n",
              "      <td>1</td>\n",
              "      <td>8</td>\n",
              "      <td>8</td>\n",
              "      <td>23</td>\n",
              "      <td>22</td>\n",
              "    </tr>\n",
              "    <tr>\n",
              "      <th>2</th>\n",
              "      <td>75001</td>\n",
              "      <td>1/3/2018</td>\n",
              "      <td>1439</td>\n",
              "      <td>2</td>\n",
              "      <td>weekday</td>\n",
              "      <td>138</td>\n",
              "      <td>139</td>\n",
              "      <td>0</td>\n",
              "      <td>0</td>\n",
              "      <td>2</td>\n",
              "      <td>2</td>\n",
              "      <td>27</td>\n",
              "      <td>27</td>\n",
              "    </tr>\n",
              "    <tr>\n",
              "      <th>3</th>\n",
              "      <td>75001</td>\n",
              "      <td>1/4/2018</td>\n",
              "      <td>1320</td>\n",
              "      <td>3</td>\n",
              "      <td>weekday</td>\n",
              "      <td>104</td>\n",
              "      <td>104</td>\n",
              "      <td>2</td>\n",
              "      <td>2</td>\n",
              "      <td>9</td>\n",
              "      <td>8</td>\n",
              "      <td>25</td>\n",
              "      <td>21</td>\n",
              "    </tr>\n",
              "    <tr>\n",
              "      <th>4</th>\n",
              "      <td>75001</td>\n",
              "      <td>1/5/2018</td>\n",
              "      <td>1440</td>\n",
              "      <td>4</td>\n",
              "      <td>weekday</td>\n",
              "      <td>114</td>\n",
              "      <td>117</td>\n",
              "      <td>3</td>\n",
              "      <td>3</td>\n",
              "      <td>6</td>\n",
              "      <td>6</td>\n",
              "      <td>18</td>\n",
              "      <td>20</td>\n",
              "    </tr>\n",
              "  </tbody>\n",
              "</table>\n",
              "</div>"
            ],
            "text/plain": [
              "   Postal code      date  ...  Slots_freed_sum  Slots_taken_sum\n",
              "0        75001  1/1/2018  ...               22               20\n",
              "1        75001  1/2/2018  ...               23               22\n",
              "2        75001  1/3/2018  ...               27               27\n",
              "3        75001  1/4/2018  ...               25               21\n",
              "4        75001  1/5/2018  ...               18               20\n",
              "\n",
              "[5 rows x 13 columns]"
            ]
          },
          "metadata": {
            "tags": []
          },
          "execution_count": 3
        }
      ]
    },
    {
      "cell_type": "code",
      "metadata": {
        "id": "xykVvhvcFs7m",
        "colab_type": "code",
        "colab": {
          "base_uri": "https://localhost:8080/",
          "height": 234
        },
        "outputId": "38884b90-3b2a-4cfa-ba1c-be632138d2ad"
      },
      "source": [
        "#Previewing tail of 5 records of our dataset\n",
        "df.tail()"
      ],
      "execution_count": null,
      "outputs": [
        {
          "output_type": "execute_result",
          "data": {
            "text/html": [
              "<div>\n",
              "<style scoped>\n",
              "    .dataframe tbody tr th:only-of-type {\n",
              "        vertical-align: middle;\n",
              "    }\n",
              "\n",
              "    .dataframe tbody tr th {\n",
              "        vertical-align: top;\n",
              "    }\n",
              "\n",
              "    .dataframe thead th {\n",
              "        text-align: right;\n",
              "    }\n",
              "</style>\n",
              "<table border=\"1\" class=\"dataframe\">\n",
              "  <thead>\n",
              "    <tr style=\"text-align: right;\">\n",
              "      <th></th>\n",
              "      <th>Postal code</th>\n",
              "      <th>date</th>\n",
              "      <th>n_daily_data_points</th>\n",
              "      <th>dayOfWeek</th>\n",
              "      <th>day_type</th>\n",
              "      <th>BlueCars_taken_sum</th>\n",
              "      <th>BlueCars_returned_sum</th>\n",
              "      <th>Utilib_taken_sum</th>\n",
              "      <th>Utilib_returned_sum</th>\n",
              "      <th>Utilib_14_taken_sum</th>\n",
              "      <th>Utilib_14_returned_sum</th>\n",
              "      <th>Slots_freed_sum</th>\n",
              "      <th>Slots_taken_sum</th>\n",
              "    </tr>\n",
              "  </thead>\n",
              "  <tbody>\n",
              "    <tr>\n",
              "      <th>16080</th>\n",
              "      <td>95880</td>\n",
              "      <td>6/15/2018</td>\n",
              "      <td>1440</td>\n",
              "      <td>4</td>\n",
              "      <td>weekday</td>\n",
              "      <td>15</td>\n",
              "      <td>10</td>\n",
              "      <td>0</td>\n",
              "      <td>0</td>\n",
              "      <td>2</td>\n",
              "      <td>3</td>\n",
              "      <td>0</td>\n",
              "      <td>0</td>\n",
              "    </tr>\n",
              "    <tr>\n",
              "      <th>16081</th>\n",
              "      <td>95880</td>\n",
              "      <td>6/16/2018</td>\n",
              "      <td>1440</td>\n",
              "      <td>5</td>\n",
              "      <td>weekend</td>\n",
              "      <td>19</td>\n",
              "      <td>19</td>\n",
              "      <td>0</td>\n",
              "      <td>0</td>\n",
              "      <td>2</td>\n",
              "      <td>1</td>\n",
              "      <td>0</td>\n",
              "      <td>0</td>\n",
              "    </tr>\n",
              "    <tr>\n",
              "      <th>16082</th>\n",
              "      <td>95880</td>\n",
              "      <td>6/17/2018</td>\n",
              "      <td>1440</td>\n",
              "      <td>6</td>\n",
              "      <td>weekend</td>\n",
              "      <td>33</td>\n",
              "      <td>35</td>\n",
              "      <td>1</td>\n",
              "      <td>1</td>\n",
              "      <td>0</td>\n",
              "      <td>0</td>\n",
              "      <td>0</td>\n",
              "      <td>0</td>\n",
              "    </tr>\n",
              "    <tr>\n",
              "      <th>16083</th>\n",
              "      <td>95880</td>\n",
              "      <td>6/18/2018</td>\n",
              "      <td>1440</td>\n",
              "      <td>0</td>\n",
              "      <td>weekday</td>\n",
              "      <td>11</td>\n",
              "      <td>14</td>\n",
              "      <td>3</td>\n",
              "      <td>5</td>\n",
              "      <td>2</td>\n",
              "      <td>2</td>\n",
              "      <td>0</td>\n",
              "      <td>0</td>\n",
              "    </tr>\n",
              "    <tr>\n",
              "      <th>16084</th>\n",
              "      <td>95880</td>\n",
              "      <td>6/19/2018</td>\n",
              "      <td>1370</td>\n",
              "      <td>1</td>\n",
              "      <td>weekday</td>\n",
              "      <td>2</td>\n",
              "      <td>2</td>\n",
              "      <td>2</td>\n",
              "      <td>1</td>\n",
              "      <td>0</td>\n",
              "      <td>0</td>\n",
              "      <td>0</td>\n",
              "      <td>0</td>\n",
              "    </tr>\n",
              "  </tbody>\n",
              "</table>\n",
              "</div>"
            ],
            "text/plain": [
              "       Postal code       date  ...  Slots_freed_sum  Slots_taken_sum\n",
              "16080        95880  6/15/2018  ...                0                0\n",
              "16081        95880  6/16/2018  ...                0                0\n",
              "16082        95880  6/17/2018  ...                0                0\n",
              "16083        95880  6/18/2018  ...                0                0\n",
              "16084        95880  6/19/2018  ...                0                0\n",
              "\n",
              "[5 rows x 13 columns]"
            ]
          },
          "metadata": {
            "tags": []
          },
          "execution_count": 4
        }
      ]
    },
    {
      "cell_type": "code",
      "metadata": {
        "id": "dtT5qTVDvRsb",
        "colab_type": "code",
        "colab": {
          "base_uri": "https://localhost:8080/",
          "height": 265
        },
        "outputId": "9941c983-d577-4ef5-8d19-dcd9b79f2f7a"
      },
      "source": [
        "#Checking the data types\n",
        "\n",
        "df.dtypes\n",
        "\n",
        "#Our dataset has integers and object data types"
      ],
      "execution_count": null,
      "outputs": [
        {
          "output_type": "execute_result",
          "data": {
            "text/plain": [
              "Postal code                int64\n",
              "date                      object\n",
              "n_daily_data_points        int64\n",
              "dayOfWeek                  int64\n",
              "day_type                  object\n",
              "BlueCars_taken_sum         int64\n",
              "BlueCars_returned_sum      int64\n",
              "Utilib_taken_sum           int64\n",
              "Utilib_returned_sum        int64\n",
              "Utilib_14_taken_sum        int64\n",
              "Utilib_14_returned_sum     int64\n",
              "Slots_freed_sum            int64\n",
              "Slots_taken_sum            int64\n",
              "dtype: object"
            ]
          },
          "metadata": {
            "tags": []
          },
          "execution_count": 11
        }
      ]
    },
    {
      "cell_type": "code",
      "metadata": {
        "id": "IHvZBCsBeQss",
        "colab_type": "code",
        "colab": {
          "base_uri": "https://localhost:8080/",
          "height": 224
        },
        "outputId": "b8cc0915-adba-4520-9f3a-f8a0a8227771"
      },
      "source": [
        "#Changing date from object to date time\n",
        "df.date=pd.to_datetime(df.date)\n",
        "df.head(3)"
      ],
      "execution_count": null,
      "outputs": [
        {
          "output_type": "execute_result",
          "data": {
            "text/html": [
              "<div>\n",
              "<style scoped>\n",
              "    .dataframe tbody tr th:only-of-type {\n",
              "        vertical-align: middle;\n",
              "    }\n",
              "\n",
              "    .dataframe tbody tr th {\n",
              "        vertical-align: top;\n",
              "    }\n",
              "\n",
              "    .dataframe thead th {\n",
              "        text-align: right;\n",
              "    }\n",
              "</style>\n",
              "<table border=\"1\" class=\"dataframe\">\n",
              "  <thead>\n",
              "    <tr style=\"text-align: right;\">\n",
              "      <th></th>\n",
              "      <th>Postal code</th>\n",
              "      <th>date</th>\n",
              "      <th>n_daily_data_points</th>\n",
              "      <th>dayOfWeek</th>\n",
              "      <th>day_type</th>\n",
              "      <th>BlueCars_taken_sum</th>\n",
              "      <th>BlueCars_returned_sum</th>\n",
              "      <th>Utilib_taken_sum</th>\n",
              "      <th>Utilib_returned_sum</th>\n",
              "      <th>Utilib_14_taken_sum</th>\n",
              "      <th>Utilib_14_returned_sum</th>\n",
              "      <th>Slots_freed_sum</th>\n",
              "      <th>Slots_taken_sum</th>\n",
              "    </tr>\n",
              "  </thead>\n",
              "  <tbody>\n",
              "    <tr>\n",
              "      <th>0</th>\n",
              "      <td>75001</td>\n",
              "      <td>2018-01-01</td>\n",
              "      <td>1440</td>\n",
              "      <td>0</td>\n",
              "      <td>weekday</td>\n",
              "      <td>110</td>\n",
              "      <td>103</td>\n",
              "      <td>3</td>\n",
              "      <td>2</td>\n",
              "      <td>10</td>\n",
              "      <td>9</td>\n",
              "      <td>22</td>\n",
              "      <td>20</td>\n",
              "    </tr>\n",
              "    <tr>\n",
              "      <th>1</th>\n",
              "      <td>75001</td>\n",
              "      <td>2018-01-02</td>\n",
              "      <td>1438</td>\n",
              "      <td>1</td>\n",
              "      <td>weekday</td>\n",
              "      <td>98</td>\n",
              "      <td>94</td>\n",
              "      <td>1</td>\n",
              "      <td>1</td>\n",
              "      <td>8</td>\n",
              "      <td>8</td>\n",
              "      <td>23</td>\n",
              "      <td>22</td>\n",
              "    </tr>\n",
              "    <tr>\n",
              "      <th>2</th>\n",
              "      <td>75001</td>\n",
              "      <td>2018-01-03</td>\n",
              "      <td>1439</td>\n",
              "      <td>2</td>\n",
              "      <td>weekday</td>\n",
              "      <td>138</td>\n",
              "      <td>139</td>\n",
              "      <td>0</td>\n",
              "      <td>0</td>\n",
              "      <td>2</td>\n",
              "      <td>2</td>\n",
              "      <td>27</td>\n",
              "      <td>27</td>\n",
              "    </tr>\n",
              "  </tbody>\n",
              "</table>\n",
              "</div>"
            ],
            "text/plain": [
              "   Postal code       date  ...  Slots_freed_sum  Slots_taken_sum\n",
              "0        75001 2018-01-01  ...               22               20\n",
              "1        75001 2018-01-02  ...               23               22\n",
              "2        75001 2018-01-03  ...               27               27\n",
              "\n",
              "[3 rows x 13 columns]"
            ]
          },
          "metadata": {
            "tags": []
          },
          "execution_count": 12
        }
      ]
    },
    {
      "cell_type": "code",
      "metadata": {
        "id": "UY-2954ua5Bi",
        "colab_type": "code",
        "colab": {
          "base_uri": "https://localhost:8080/",
          "height": 265
        },
        "outputId": "be899f81-e8c7-415d-ae5b-4f2d07cc0c38"
      },
      "source": [
        "#Checking if date is in date time data type\n",
        "df.dtypes "
      ],
      "execution_count": null,
      "outputs": [
        {
          "output_type": "execute_result",
          "data": {
            "text/plain": [
              "Postal code                        int64\n",
              "date                      datetime64[ns]\n",
              "n_daily_data_points                int64\n",
              "dayOfWeek                          int64\n",
              "day_type                          object\n",
              "BlueCars_taken_sum                 int64\n",
              "BlueCars_returned_sum              int64\n",
              "Utilib_taken_sum                   int64\n",
              "Utilib_returned_sum                int64\n",
              "Utilib_14_taken_sum                int64\n",
              "Utilib_14_returned_sum             int64\n",
              "Slots_freed_sum                    int64\n",
              "Slots_taken_sum                    int64\n",
              "dtype: object"
            ]
          },
          "metadata": {
            "tags": []
          },
          "execution_count": 13
        }
      ]
    },
    {
      "cell_type": "code",
      "metadata": {
        "id": "B0snNYbSNCoi",
        "colab_type": "code",
        "colab": {
          "base_uri": "https://localhost:8080/",
          "height": 34
        },
        "outputId": "82e90bbd-9bf6-4f9e-d70e-424b937b251f"
      },
      "source": [
        "#Checking teh shape of our data\n",
        "df.shape \n",
        "\n",
        "#Our dataset has 16,085 rows and 13 columns"
      ],
      "execution_count": null,
      "outputs": [
        {
          "output_type": "execute_result",
          "data": {
            "text/plain": [
              "(16085, 13)"
            ]
          },
          "metadata": {
            "tags": []
          },
          "execution_count": 14
        }
      ]
    },
    {
      "cell_type": "code",
      "metadata": {
        "id": "3Id7tPVgM7-5",
        "colab_type": "code",
        "colab": {
          "base_uri": "https://localhost:8080/",
          "height": 324
        },
        "outputId": "5b4ef74a-c190-4587-f5ce-61c231979da6"
      },
      "source": [
        "#Checking statistical description of our dataset\n",
        "\n",
        "df.describe()"
      ],
      "execution_count": null,
      "outputs": [
        {
          "output_type": "execute_result",
          "data": {
            "text/html": [
              "<div>\n",
              "<style scoped>\n",
              "    .dataframe tbody tr th:only-of-type {\n",
              "        vertical-align: middle;\n",
              "    }\n",
              "\n",
              "    .dataframe tbody tr th {\n",
              "        vertical-align: top;\n",
              "    }\n",
              "\n",
              "    .dataframe thead th {\n",
              "        text-align: right;\n",
              "    }\n",
              "</style>\n",
              "<table border=\"1\" class=\"dataframe\">\n",
              "  <thead>\n",
              "    <tr style=\"text-align: right;\">\n",
              "      <th></th>\n",
              "      <th>Postal code</th>\n",
              "      <th>n_daily_data_points</th>\n",
              "      <th>dayOfWeek</th>\n",
              "      <th>BlueCars_taken_sum</th>\n",
              "      <th>BlueCars_returned_sum</th>\n",
              "      <th>Utilib_taken_sum</th>\n",
              "      <th>Utilib_returned_sum</th>\n",
              "      <th>Utilib_14_taken_sum</th>\n",
              "      <th>Utilib_14_returned_sum</th>\n",
              "      <th>Slots_freed_sum</th>\n",
              "      <th>Slots_taken_sum</th>\n",
              "    </tr>\n",
              "  </thead>\n",
              "  <tbody>\n",
              "    <tr>\n",
              "      <th>count</th>\n",
              "      <td>16085.000000</td>\n",
              "      <td>16085.000000</td>\n",
              "      <td>16085.000000</td>\n",
              "      <td>16085.000000</td>\n",
              "      <td>16085.000000</td>\n",
              "      <td>16085.000000</td>\n",
              "      <td>16085.000000</td>\n",
              "      <td>16085.000000</td>\n",
              "      <td>16085.000000</td>\n",
              "      <td>16085.000000</td>\n",
              "      <td>16085.000000</td>\n",
              "    </tr>\n",
              "    <tr>\n",
              "      <th>mean</th>\n",
              "      <td>88791.293876</td>\n",
              "      <td>1431.330619</td>\n",
              "      <td>2.969599</td>\n",
              "      <td>125.926951</td>\n",
              "      <td>125.912714</td>\n",
              "      <td>3.698290</td>\n",
              "      <td>3.699099</td>\n",
              "      <td>8.600560</td>\n",
              "      <td>8.599192</td>\n",
              "      <td>22.629033</td>\n",
              "      <td>22.629282</td>\n",
              "    </tr>\n",
              "    <tr>\n",
              "      <th>std</th>\n",
              "      <td>7647.342000</td>\n",
              "      <td>33.212050</td>\n",
              "      <td>2.008378</td>\n",
              "      <td>185.426579</td>\n",
              "      <td>185.501535</td>\n",
              "      <td>5.815058</td>\n",
              "      <td>5.824634</td>\n",
              "      <td>12.870098</td>\n",
              "      <td>12.868993</td>\n",
              "      <td>52.120263</td>\n",
              "      <td>52.146030</td>\n",
              "    </tr>\n",
              "    <tr>\n",
              "      <th>min</th>\n",
              "      <td>75001.000000</td>\n",
              "      <td>1174.000000</td>\n",
              "      <td>0.000000</td>\n",
              "      <td>0.000000</td>\n",
              "      <td>0.000000</td>\n",
              "      <td>0.000000</td>\n",
              "      <td>0.000000</td>\n",
              "      <td>0.000000</td>\n",
              "      <td>0.000000</td>\n",
              "      <td>0.000000</td>\n",
              "      <td>0.000000</td>\n",
              "    </tr>\n",
              "    <tr>\n",
              "      <th>25%</th>\n",
              "      <td>91330.000000</td>\n",
              "      <td>1439.000000</td>\n",
              "      <td>1.000000</td>\n",
              "      <td>20.000000</td>\n",
              "      <td>20.000000</td>\n",
              "      <td>0.000000</td>\n",
              "      <td>0.000000</td>\n",
              "      <td>1.000000</td>\n",
              "      <td>1.000000</td>\n",
              "      <td>0.000000</td>\n",
              "      <td>0.000000</td>\n",
              "    </tr>\n",
              "    <tr>\n",
              "      <th>50%</th>\n",
              "      <td>92340.000000</td>\n",
              "      <td>1440.000000</td>\n",
              "      <td>3.000000</td>\n",
              "      <td>46.000000</td>\n",
              "      <td>46.000000</td>\n",
              "      <td>1.000000</td>\n",
              "      <td>1.000000</td>\n",
              "      <td>3.000000</td>\n",
              "      <td>3.000000</td>\n",
              "      <td>0.000000</td>\n",
              "      <td>0.000000</td>\n",
              "    </tr>\n",
              "    <tr>\n",
              "      <th>75%</th>\n",
              "      <td>93400.000000</td>\n",
              "      <td>1440.000000</td>\n",
              "      <td>5.000000</td>\n",
              "      <td>135.000000</td>\n",
              "      <td>135.000000</td>\n",
              "      <td>4.000000</td>\n",
              "      <td>4.000000</td>\n",
              "      <td>10.000000</td>\n",
              "      <td>10.000000</td>\n",
              "      <td>5.000000</td>\n",
              "      <td>5.000000</td>\n",
              "    </tr>\n",
              "    <tr>\n",
              "      <th>max</th>\n",
              "      <td>95880.000000</td>\n",
              "      <td>1440.000000</td>\n",
              "      <td>6.000000</td>\n",
              "      <td>1352.000000</td>\n",
              "      <td>1332.000000</td>\n",
              "      <td>54.000000</td>\n",
              "      <td>58.000000</td>\n",
              "      <td>100.000000</td>\n",
              "      <td>101.000000</td>\n",
              "      <td>360.000000</td>\n",
              "      <td>359.000000</td>\n",
              "    </tr>\n",
              "  </tbody>\n",
              "</table>\n",
              "</div>"
            ],
            "text/plain": [
              "        Postal code  n_daily_data_points  ...  Slots_freed_sum  Slots_taken_sum\n",
              "count  16085.000000         16085.000000  ...     16085.000000     16085.000000\n",
              "mean   88791.293876          1431.330619  ...        22.629033        22.629282\n",
              "std     7647.342000            33.212050  ...        52.120263        52.146030\n",
              "min    75001.000000          1174.000000  ...         0.000000         0.000000\n",
              "25%    91330.000000          1439.000000  ...         0.000000         0.000000\n",
              "50%    92340.000000          1440.000000  ...         0.000000         0.000000\n",
              "75%    93400.000000          1440.000000  ...         5.000000         5.000000\n",
              "max    95880.000000          1440.000000  ...       360.000000       359.000000\n",
              "\n",
              "[8 rows x 11 columns]"
            ]
          },
          "metadata": {
            "tags": []
          },
          "execution_count": 15
        }
      ]
    },
    {
      "cell_type": "code",
      "metadata": {
        "id": "O7odA4xea5FP",
        "colab_type": "code",
        "colab": {
          "base_uri": "https://localhost:8080/",
          "height": 254
        },
        "outputId": "c34498ff-f6a3-42f3-f82d-57dc26bb9934"
      },
      "source": [
        "#Setting date as index for ease of plotting and visualization\n",
        "df=df.set_index('date')\n",
        "df.head(3)"
      ],
      "execution_count": null,
      "outputs": [
        {
          "output_type": "execute_result",
          "data": {
            "text/html": [
              "<div>\n",
              "<style scoped>\n",
              "    .dataframe tbody tr th:only-of-type {\n",
              "        vertical-align: middle;\n",
              "    }\n",
              "\n",
              "    .dataframe tbody tr th {\n",
              "        vertical-align: top;\n",
              "    }\n",
              "\n",
              "    .dataframe thead th {\n",
              "        text-align: right;\n",
              "    }\n",
              "</style>\n",
              "<table border=\"1\" class=\"dataframe\">\n",
              "  <thead>\n",
              "    <tr style=\"text-align: right;\">\n",
              "      <th></th>\n",
              "      <th>Postal code</th>\n",
              "      <th>n_daily_data_points</th>\n",
              "      <th>dayOfWeek</th>\n",
              "      <th>day_type</th>\n",
              "      <th>BlueCars_taken_sum</th>\n",
              "      <th>BlueCars_returned_sum</th>\n",
              "      <th>Utilib_taken_sum</th>\n",
              "      <th>Utilib_returned_sum</th>\n",
              "      <th>Utilib_14_taken_sum</th>\n",
              "      <th>Utilib_14_returned_sum</th>\n",
              "      <th>Slots_freed_sum</th>\n",
              "      <th>Slots_taken_sum</th>\n",
              "    </tr>\n",
              "    <tr>\n",
              "      <th>date</th>\n",
              "      <th></th>\n",
              "      <th></th>\n",
              "      <th></th>\n",
              "      <th></th>\n",
              "      <th></th>\n",
              "      <th></th>\n",
              "      <th></th>\n",
              "      <th></th>\n",
              "      <th></th>\n",
              "      <th></th>\n",
              "      <th></th>\n",
              "      <th></th>\n",
              "    </tr>\n",
              "  </thead>\n",
              "  <tbody>\n",
              "    <tr>\n",
              "      <th>2018-01-01</th>\n",
              "      <td>75001</td>\n",
              "      <td>1440</td>\n",
              "      <td>0</td>\n",
              "      <td>weekday</td>\n",
              "      <td>110</td>\n",
              "      <td>103</td>\n",
              "      <td>3</td>\n",
              "      <td>2</td>\n",
              "      <td>10</td>\n",
              "      <td>9</td>\n",
              "      <td>22</td>\n",
              "      <td>20</td>\n",
              "    </tr>\n",
              "    <tr>\n",
              "      <th>2018-01-02</th>\n",
              "      <td>75001</td>\n",
              "      <td>1438</td>\n",
              "      <td>1</td>\n",
              "      <td>weekday</td>\n",
              "      <td>98</td>\n",
              "      <td>94</td>\n",
              "      <td>1</td>\n",
              "      <td>1</td>\n",
              "      <td>8</td>\n",
              "      <td>8</td>\n",
              "      <td>23</td>\n",
              "      <td>22</td>\n",
              "    </tr>\n",
              "    <tr>\n",
              "      <th>2018-01-03</th>\n",
              "      <td>75001</td>\n",
              "      <td>1439</td>\n",
              "      <td>2</td>\n",
              "      <td>weekday</td>\n",
              "      <td>138</td>\n",
              "      <td>139</td>\n",
              "      <td>0</td>\n",
              "      <td>0</td>\n",
              "      <td>2</td>\n",
              "      <td>2</td>\n",
              "      <td>27</td>\n",
              "      <td>27</td>\n",
              "    </tr>\n",
              "  </tbody>\n",
              "</table>\n",
              "</div>"
            ],
            "text/plain": [
              "            Postal code  n_daily_data_points  ...  Slots_freed_sum Slots_taken_sum\n",
              "date                                          ...                                 \n",
              "2018-01-01        75001                 1440  ...               22              20\n",
              "2018-01-02        75001                 1438  ...               23              22\n",
              "2018-01-03        75001                 1439  ...               27              27\n",
              "\n",
              "[3 rows x 12 columns]"
            ]
          },
          "metadata": {
            "tags": []
          },
          "execution_count": 16
        }
      ]
    },
    {
      "cell_type": "code",
      "metadata": {
        "id": "3nPAZXlka5We",
        "colab_type": "code",
        "colab": {
          "base_uri": "https://localhost:8080/",
          "height": 158
        },
        "outputId": "388b6e11-0a8e-4cc4-84f0-c979166763fb"
      },
      "source": [
        "df.index "
      ],
      "execution_count": null,
      "outputs": [
        {
          "output_type": "execute_result",
          "data": {
            "text/plain": [
              "DatetimeIndex(['2018-01-01', '2018-01-02', '2018-01-03', '2018-01-04',\n",
              "               '2018-01-05', '2018-01-06', '2018-01-07', '2018-01-08',\n",
              "               '2018-01-09', '2018-01-10',\n",
              "               ...\n",
              "               '2018-06-10', '2018-06-11', '2018-06-12', '2018-06-13',\n",
              "               '2018-06-14', '2018-06-15', '2018-06-16', '2018-06-17',\n",
              "               '2018-06-18', '2018-06-19'],\n",
              "              dtype='datetime64[ns]', name='date', length=16085, freq=None)"
            ]
          },
          "metadata": {
            "tags": []
          },
          "execution_count": 17
        }
      ]
    },
    {
      "cell_type": "code",
      "metadata": {
        "id": "SiMAe6CXIPMc",
        "colab_type": "code",
        "colab": {
          "base_uri": "https://localhost:8080/",
          "height": 217
        },
        "outputId": "35b0fb33-9248-4b1d-a176-31ba0acffa6f"
      },
      "source": [
        "# To align the columns in our dataset to fill in empty spaces \n",
        "\n",
        "df.columns = df.columns.str.strip().str.lower().str.replace(' ', '_').str.replace('(', '').str.replace(')', '')\n",
        "df.head()"
      ],
      "execution_count": null,
      "outputs": [
        {
          "output_type": "execute_result",
          "data": {
            "text/html": [
              "<div>\n",
              "<style scoped>\n",
              "    .dataframe tbody tr th:only-of-type {\n",
              "        vertical-align: middle;\n",
              "    }\n",
              "\n",
              "    .dataframe tbody tr th {\n",
              "        vertical-align: top;\n",
              "    }\n",
              "\n",
              "    .dataframe thead th {\n",
              "        text-align: right;\n",
              "    }\n",
              "</style>\n",
              "<table border=\"1\" class=\"dataframe\">\n",
              "  <thead>\n",
              "    <tr style=\"text-align: right;\">\n",
              "      <th></th>\n",
              "      <th>postal_code</th>\n",
              "      <th>date</th>\n",
              "      <th>n_daily_data_points</th>\n",
              "      <th>dayofweek</th>\n",
              "      <th>day_type</th>\n",
              "      <th>bluecars_taken_sum</th>\n",
              "      <th>bluecars_returned_sum</th>\n",
              "      <th>utilib_taken_sum</th>\n",
              "      <th>utilib_returned_sum</th>\n",
              "      <th>utilib_14_taken_sum</th>\n",
              "      <th>utilib_14_returned_sum</th>\n",
              "      <th>slots_freed_sum</th>\n",
              "      <th>slots_taken_sum</th>\n",
              "    </tr>\n",
              "  </thead>\n",
              "  <tbody>\n",
              "    <tr>\n",
              "      <th>0</th>\n",
              "      <td>75001</td>\n",
              "      <td>1/1/2018</td>\n",
              "      <td>1440</td>\n",
              "      <td>0</td>\n",
              "      <td>weekday</td>\n",
              "      <td>110</td>\n",
              "      <td>103</td>\n",
              "      <td>3</td>\n",
              "      <td>2</td>\n",
              "      <td>10</td>\n",
              "      <td>9</td>\n",
              "      <td>22</td>\n",
              "      <td>20</td>\n",
              "    </tr>\n",
              "    <tr>\n",
              "      <th>1</th>\n",
              "      <td>75001</td>\n",
              "      <td>1/2/2018</td>\n",
              "      <td>1438</td>\n",
              "      <td>1</td>\n",
              "      <td>weekday</td>\n",
              "      <td>98</td>\n",
              "      <td>94</td>\n",
              "      <td>1</td>\n",
              "      <td>1</td>\n",
              "      <td>8</td>\n",
              "      <td>8</td>\n",
              "      <td>23</td>\n",
              "      <td>22</td>\n",
              "    </tr>\n",
              "    <tr>\n",
              "      <th>2</th>\n",
              "      <td>75001</td>\n",
              "      <td>1/3/2018</td>\n",
              "      <td>1439</td>\n",
              "      <td>2</td>\n",
              "      <td>weekday</td>\n",
              "      <td>138</td>\n",
              "      <td>139</td>\n",
              "      <td>0</td>\n",
              "      <td>0</td>\n",
              "      <td>2</td>\n",
              "      <td>2</td>\n",
              "      <td>27</td>\n",
              "      <td>27</td>\n",
              "    </tr>\n",
              "    <tr>\n",
              "      <th>3</th>\n",
              "      <td>75001</td>\n",
              "      <td>1/4/2018</td>\n",
              "      <td>1320</td>\n",
              "      <td>3</td>\n",
              "      <td>weekday</td>\n",
              "      <td>104</td>\n",
              "      <td>104</td>\n",
              "      <td>2</td>\n",
              "      <td>2</td>\n",
              "      <td>9</td>\n",
              "      <td>8</td>\n",
              "      <td>25</td>\n",
              "      <td>21</td>\n",
              "    </tr>\n",
              "    <tr>\n",
              "      <th>4</th>\n",
              "      <td>75001</td>\n",
              "      <td>1/5/2018</td>\n",
              "      <td>1440</td>\n",
              "      <td>4</td>\n",
              "      <td>weekday</td>\n",
              "      <td>114</td>\n",
              "      <td>117</td>\n",
              "      <td>3</td>\n",
              "      <td>3</td>\n",
              "      <td>6</td>\n",
              "      <td>6</td>\n",
              "      <td>18</td>\n",
              "      <td>20</td>\n",
              "    </tr>\n",
              "  </tbody>\n",
              "</table>\n",
              "</div>"
            ],
            "text/plain": [
              "   postal_code      date  ...  slots_freed_sum  slots_taken_sum\n",
              "0        75001  1/1/2018  ...               22               20\n",
              "1        75001  1/2/2018  ...               23               22\n",
              "2        75001  1/3/2018  ...               27               27\n",
              "3        75001  1/4/2018  ...               25               21\n",
              "4        75001  1/5/2018  ...               18               20\n",
              "\n",
              "[5 rows x 13 columns]"
            ]
          },
          "metadata": {
            "tags": []
          },
          "execution_count": 26
        }
      ]
    },
    {
      "cell_type": "code",
      "metadata": {
        "id": "LH91pZV8Mo_9",
        "colab_type": "code",
        "colab": {
          "base_uri": "https://localhost:8080/",
          "height": 265
        },
        "outputId": "4ef86701-5596-44af-dedc-b58d17bc9d99"
      },
      "source": [
        "#Checking for null values\n",
        "\n",
        "df.isnull().sum()\n",
        "# Our dataset has no null values "
      ],
      "execution_count": null,
      "outputs": [
        {
          "output_type": "execute_result",
          "data": {
            "text/plain": [
              "postal_code               0\n",
              "date                      0\n",
              "n_daily_data_points       0\n",
              "dayofweek                 0\n",
              "day_type                  0\n",
              "bluecars_taken_sum        0\n",
              "bluecars_returned_sum     0\n",
              "utilib_taken_sum          0\n",
              "utilib_returned_sum       0\n",
              "utilib_14_taken_sum       0\n",
              "utilib_14_returned_sum    0\n",
              "slots_freed_sum           0\n",
              "slots_taken_sum           0\n",
              "dtype: int64"
            ]
          },
          "metadata": {
            "tags": []
          },
          "execution_count": 27
        }
      ]
    },
    {
      "cell_type": "code",
      "metadata": {
        "id": "oTYw3BtnxFpw",
        "colab_type": "code",
        "colab": {
          "base_uri": "https://localhost:8080/",
          "height": 105
        },
        "outputId": "d4af711a-f3e5-4ee2-9f37-edb68422b8da"
      },
      "source": [
        "# check the columns that are in our dataset \n",
        "df.columns "
      ],
      "execution_count": null,
      "outputs": [
        {
          "output_type": "execute_result",
          "data": {
            "text/plain": [
              "Index(['postal_code', 'date', 'n_daily_data_points', 'dayofweek', 'day_type',\n",
              "       'bluecars_taken_sum', 'bluecars_returned_sum', 'utilib_taken_sum',\n",
              "       'utilib_returned_sum', 'utilib_14_taken_sum', 'utilib_14_returned_sum',\n",
              "       'slots_freed_sum', 'slots_taken_sum'],\n",
              "      dtype='object')"
            ]
          },
          "metadata": {
            "tags": []
          },
          "execution_count": 28
        }
      ]
    },
    {
      "cell_type": "code",
      "metadata": {
        "id": "EaBFZTQ7xL_F",
        "colab_type": "code",
        "colab": {
          "base_uri": "https://localhost:8080/",
          "height": 265
        },
        "outputId": "13a5276a-19b4-4421-b5d3-81a5f8d174a7"
      },
      "source": [
        "# check for unique values in our dataset\n",
        "df.nunique()"
      ],
      "execution_count": null,
      "outputs": [
        {
          "output_type": "execute_result",
          "data": {
            "text/plain": [
              "postal_code               104\n",
              "date                      156\n",
              "n_daily_data_points        23\n",
              "dayofweek                   7\n",
              "day_type                    2\n",
              "bluecars_taken_sum        932\n",
              "bluecars_returned_sum     929\n",
              "utilib_taken_sum           48\n",
              "utilib_returned_sum        49\n",
              "utilib_14_taken_sum        92\n",
              "utilib_14_returned_sum     94\n",
              "slots_freed_sum           297\n",
              "slots_taken_sum           301\n",
              "dtype: int64"
            ]
          },
          "metadata": {
            "tags": []
          },
          "execution_count": 29
        }
      ]
    },
    {
      "cell_type": "code",
      "metadata": {
        "id": "HusfweldRwmo",
        "colab_type": "code",
        "colab": {
          "base_uri": "https://localhost:8080/",
          "height": 230
        },
        "outputId": "7220a02d-6370-4bbf-f57e-a8b9ca4b7d7d"
      },
      "source": [
        "# checking unique values in columns\n",
        "\n",
        "df.postal_code.unique()"
      ],
      "execution_count": null,
      "outputs": [
        {
          "output_type": "execute_result",
          "data": {
            "text/plain": [
              "array([75001, 75002, 75003, 75004, 75005, 75006, 75007, 75008, 75009,\n",
              "       75010, 75011, 75012, 75013, 75014, 75015, 75016, 75017, 75018,\n",
              "       75019, 75020, 75112, 75116, 78000, 78140, 78150, 91330, 91370,\n",
              "       91400, 92000, 92100, 92110, 92120, 92130, 92140, 92150, 92160,\n",
              "       92170, 92190, 92200, 92210, 92220, 92230, 92240, 92250, 92260,\n",
              "       92270, 92290, 92300, 92310, 92320, 92330, 92340, 92350, 92360,\n",
              "       92370, 92380, 92390, 92400, 92410, 92420, 92500, 92600, 92700,\n",
              "       92800, 93100, 93110, 93130, 93150, 93170, 93200, 93230, 93260,\n",
              "       93300, 93310, 93350, 93360, 93370, 93390, 93400, 93440, 93500,\n",
              "       93600, 93700, 93800, 94000, 94100, 94110, 94120, 94130, 94140,\n",
              "       94150, 94160, 94220, 94230, 94300, 94340, 94410, 94450, 94500,\n",
              "       94700, 94800, 95100, 95870, 95880])"
            ]
          },
          "metadata": {
            "tags": []
          },
          "execution_count": 20
        }
      ]
    },
    {
      "cell_type": "code",
      "metadata": {
        "id": "CuzFglsxWKix",
        "colab_type": "code",
        "colab": {
          "base_uri": "https://localhost:8080/",
          "height": 34
        },
        "outputId": "dd8d1e8b-4b1f-4b46-caca-d247b995f5c0"
      },
      "source": [
        "# checking unique values\n",
        "df.day_type.unique()"
      ],
      "execution_count": null,
      "outputs": [
        {
          "output_type": "execute_result",
          "data": {
            "text/plain": [
              "array(['weekday', 'weekend'], dtype=object)"
            ]
          },
          "metadata": {
            "tags": []
          },
          "execution_count": 21
        }
      ]
    },
    {
      "cell_type": "markdown",
      "metadata": {
        "id": "paYekREjsbwN",
        "colab_type": "text"
      },
      "source": [
        "# 4. Tidying the Dataset"
      ]
    },
    {
      "cell_type": "code",
      "metadata": {
        "id": "HWN5G61ytDcH",
        "colab_type": "code",
        "colab": {
          "base_uri": "https://localhost:8080/",
          "height": 265
        },
        "outputId": "e14dd225-6661-4174-c1c9-81e77b5550d4"
      },
      "source": [
        "# Checking for null values\n",
        "\n",
        "df.isnull().sum()\n",
        "\n",
        "# Our dataset has no null values"
      ],
      "execution_count": null,
      "outputs": [
        {
          "output_type": "execute_result",
          "data": {
            "text/plain": [
              "postal_code               0\n",
              "date                      0\n",
              "n_daily_data_points       0\n",
              "dayofweek                 0\n",
              "day_type                  0\n",
              "bluecars_taken_sum        0\n",
              "bluecars_returned_sum     0\n",
              "utilib_taken_sum          0\n",
              "utilib_returned_sum       0\n",
              "utilib_14_taken_sum       0\n",
              "utilib_14_returned_sum    0\n",
              "slots_freed_sum           0\n",
              "slots_taken_sum           0\n",
              "dtype: int64"
            ]
          },
          "metadata": {
            "tags": []
          },
          "execution_count": 81
        }
      ]
    },
    {
      "cell_type": "code",
      "metadata": {
        "id": "2k-DMdnFyGDN",
        "colab_type": "code",
        "colab": {
          "base_uri": "https://localhost:8080/",
          "height": 280
        },
        "outputId": "660d3b22-0415-4fab-ea1d-8e2da19fc2cc"
      },
      "source": [
        "#Checking for outliers of Bluecars taken by day\n",
        "\n",
        "bplot=sns.boxplot( x ='bluecars_taken_sum', y= 'day_type',\n",
        "                 data=df, \n",
        "                 width=0.5,\n",
        "                 palette=\"colorblind\")\n",
        "\n",
        "#  Observation\n",
        "\n",
        "#  There are outliers in both weekday and weekend on blue cars taken"
      ],
      "execution_count": null,
      "outputs": [
        {
          "output_type": "display_data",
          "data": {
            "image/png": "[encoded data removed]",
            "text/plain": [
              "<Figure size 432x288 with 1 Axes>"
            ]
          },
          "metadata": {
            "tags": []
          }
        }
      ]
    },
    {
      "cell_type": "code",
      "metadata": {
        "id": "3P0WZVnACcMT",
        "colab_type": "code",
        "colab": {
          "base_uri": "https://localhost:8080/",
          "height": 34
        },
        "outputId": "77ff5a4f-bacb-4fdc-9722-7da7876e08b1"
      },
      "source": [
        "#dealing with outliers as this will distort the mean\n",
        "\n",
        "Q1 = df.quantile(0.25) \n",
        "Q3 = df.quantile(0.75)\n",
        "IQR = Q3 - Q1\n",
        "\n",
        "df_out = df[~((df < (Q1 - 1.5 * IQR)) |(df > (Q3 + 1.5 * IQR))).any(axis=1)]\n",
        "df_out.shape"
      ],
      "execution_count": null,
      "outputs": [
        {
          "output_type": "execute_result",
          "data": {
            "text/plain": [
              "(9783, 13)"
            ]
          },
          "metadata": {
            "tags": []
          },
          "execution_count": 35
        }
      ]
    },
    {
      "cell_type": "code",
      "metadata": {
        "id": "lAwbmZXU0be4",
        "colab_type": "code",
        "colab": {
          "base_uri": "https://localhost:8080/",
          "height": 280
        },
        "outputId": "16b1d62d-3d89-4d5b-cabb-5227d6617755"
      },
      "source": [
        "#Confirming that outliers have dealt with\n",
        "\n",
        "bplot=sns.boxplot( x ='bluecars_taken_sum', y= 'day_type',\n",
        "                 data=df_out, \n",
        "                 width=0.5,\n",
        "                 palette=\"colorblind\")\n"
      ],
      "execution_count": null,
      "outputs": [
        {
          "output_type": "display_data",
          "data": {
            "image/png": "[encoded data removed]",
            "text/plain": [
              "<Figure size 432x288 with 1 Axes>"
            ]
          },
          "metadata": {
            "tags": []
          }
        }
      ]
    },
    {
      "cell_type": "code",
      "metadata": {
        "id": "xJVFywmW3Xj9",
        "colab_type": "code",
        "colab": {}
      },
      "source": [
        ""
      ],
      "execution_count": null,
      "outputs": []
    },
    {
      "cell_type": "markdown",
      "metadata": {
        "id": "_gSYu77IuO5g",
        "colab_type": "text"
      },
      "source": [
        "#5. Univariate and Bivariate analysis"
      ]
    },
    {
      "cell_type": "code",
      "metadata": {
        "id": "gWvLZ2-Q3Zqg",
        "colab_type": "code",
        "colab": {
          "base_uri": "https://localhost:8080/",
          "height": 663
        },
        "outputId": "cf3c174d-857f-4b8f-b68f-7186a5cc658a"
      },
      "source": [
        " #Plotting our numerical variables on histogram to assess the relationship\n",
        "df_out.drop(['day_type'] ,axis=1).hist(bins=10, figsize=(10,10))\n",
        "plt.suptitle(\"Histogram of numeric variables Autolib dataset\")\n",
        "plt.savefig('Electric car sharing Histogram')\n",
        "plt.show()\n",
        "\n",
        "#Blue cars taken is positively skewed"
      ],
      "execution_count": null,
      "outputs": [
        {
          "output_type": "display_data",
          "data": {
            "image/png": "[encoded data removed]",
            "text/plain": [
              "<Figure size 720x720 with 12 Axes>"
            ]
          },
          "metadata": {
            "tags": []
          }
        }
      ]
    },
    {
      "cell_type": "code",
      "metadata": {
        "id": "0R2CLbZU4Ov_",
        "colab_type": "code",
        "colab": {
          "base_uri": "https://localhost:8080/",
          "height": 297
        },
        "outputId": "08a81aaf-5708-4880-8901-1bc77265fa84"
      },
      "source": [
        "# Ditribution plot for bluecars taken\n",
        "sns.distplot(df_out['bluecars_taken_sum'], bins=20)\n",
        "\n",
        "# The distribution curve takes a normal distribution that is positively skewed"
      ],
      "execution_count": null,
      "outputs": [
        {
          "output_type": "execute_result",
          "data": {
            "text/plain": [
              "<matplotlib.axes._subplots.AxesSubplot at 0x7f12aeaf22b0>"
            ]
          },
          "metadata": {
            "tags": []
          },
          "execution_count": 112
        },
        {
          "output_type": "display_data",
          "data": {
            "image/png": "[encoded data removed]",
            "text/plain": [
              "<Figure size 432x288 with 1 Axes>"
            ]
          },
          "metadata": {
            "tags": []
          }
        }
      ]
    },
    {
      "cell_type": "code",
      "metadata": {
        "id": "_kVhx1u85BkR",
        "colab_type": "code",
        "colab": {
          "base_uri": "https://localhost:8080/",
          "height": 297
        },
        "outputId": "ba5efc76-b794-4b9e-f20f-856ae9910b62"
      },
      "source": [
        "#Creating subplots on blue cars taken by day\n",
        "\n",
        "sns.barplot(x='day_type', y='bluecars_taken_sum', data = df_out)\n",
        "\n",
        "#This shows that more cars are taken over the weekend than weekdays"
      ],
      "execution_count": null,
      "outputs": [
        {
          "output_type": "execute_result",
          "data": {
            "text/plain": [
              "<matplotlib.axes._subplots.AxesSubplot at 0x7f12ae87c550>"
            ]
          },
          "metadata": {
            "tags": []
          },
          "execution_count": 113
        },
        {
          "output_type": "display_data",
          "data": {
            "image/png": "[encoded data removed]",
            "text/plain": [
              "<Figure size 432x288 with 1 Axes>"
            ]
          },
          "metadata": {
            "tags": []
          }
        }
      ]
    },
    {
      "cell_type": "code",
      "metadata": {
        "id": "fb5BedSR2sMa",
        "colab_type": "code",
        "colab": {
          "base_uri": "https://localhost:8080/",
          "height": 397
        },
        "outputId": "be8b4b02-9ebd-4470-8db1-208adf0ba3ec"
      },
      "source": [
        "#plotting Correlation matrix\n",
        "#\n",
        "corrMatrix = df_out.corr() \n",
        "corrMatrix"
      ],
      "execution_count": null,
      "outputs": [
        {
          "output_type": "execute_result",
          "data": {
            "text/html": [
              "<div>\n",
              "<style scoped>\n",
              "    .dataframe tbody tr th:only-of-type {\n",
              "        vertical-align: middle;\n",
              "    }\n",
              "\n",
              "    .dataframe tbody tr th {\n",
              "        vertical-align: top;\n",
              "    }\n",
              "\n",
              "    .dataframe thead th {\n",
              "        text-align: right;\n",
              "    }\n",
              "</style>\n",
              "<table border=\"1\" class=\"dataframe\">\n",
              "  <thead>\n",
              "    <tr style=\"text-align: right;\">\n",
              "      <th></th>\n",
              "      <th>postal_code</th>\n",
              "      <th>n_daily_data_points</th>\n",
              "      <th>dayofweek</th>\n",
              "      <th>bluecars_taken_sum</th>\n",
              "      <th>bluecars_returned_sum</th>\n",
              "      <th>utilib_taken_sum</th>\n",
              "      <th>utilib_returned_sum</th>\n",
              "      <th>utilib_14_taken_sum</th>\n",
              "      <th>utilib_14_returned_sum</th>\n",
              "      <th>slots_freed_sum</th>\n",
              "      <th>slots_taken_sum</th>\n",
              "    </tr>\n",
              "  </thead>\n",
              "  <tbody>\n",
              "    <tr>\n",
              "      <th>postal_code</th>\n",
              "      <td>1.000000</td>\n",
              "      <td>0.001195</td>\n",
              "      <td>0.004671</td>\n",
              "      <td>-0.206847</td>\n",
              "      <td>-0.208021</td>\n",
              "      <td>-0.132142</td>\n",
              "      <td>-0.129783</td>\n",
              "      <td>-0.150472</td>\n",
              "      <td>-0.149341</td>\n",
              "      <td>-0.121932</td>\n",
              "      <td>-0.120596</td>\n",
              "    </tr>\n",
              "    <tr>\n",
              "      <th>n_daily_data_points</th>\n",
              "      <td>0.001195</td>\n",
              "      <td>1.000000</td>\n",
              "      <td>0.098400</td>\n",
              "      <td>0.003433</td>\n",
              "      <td>0.005715</td>\n",
              "      <td>0.010958</td>\n",
              "      <td>0.010642</td>\n",
              "      <td>0.011844</td>\n",
              "      <td>0.016537</td>\n",
              "      <td>-0.001043</td>\n",
              "      <td>-0.002158</td>\n",
              "    </tr>\n",
              "    <tr>\n",
              "      <th>dayofweek</th>\n",
              "      <td>0.004671</td>\n",
              "      <td>0.098400</td>\n",
              "      <td>1.000000</td>\n",
              "      <td>0.110733</td>\n",
              "      <td>0.103159</td>\n",
              "      <td>0.075870</td>\n",
              "      <td>0.077932</td>\n",
              "      <td>0.086363</td>\n",
              "      <td>0.083896</td>\n",
              "      <td>0.020186</td>\n",
              "      <td>0.014675</td>\n",
              "    </tr>\n",
              "    <tr>\n",
              "      <th>bluecars_taken_sum</th>\n",
              "      <td>-0.206847</td>\n",
              "      <td>0.003433</td>\n",
              "      <td>0.110733</td>\n",
              "      <td>1.000000</td>\n",
              "      <td>0.992041</td>\n",
              "      <td>0.626960</td>\n",
              "      <td>0.625355</td>\n",
              "      <td>0.751659</td>\n",
              "      <td>0.747126</td>\n",
              "      <td>0.312955</td>\n",
              "      <td>0.310257</td>\n",
              "    </tr>\n",
              "    <tr>\n",
              "      <th>bluecars_returned_sum</th>\n",
              "      <td>-0.208021</td>\n",
              "      <td>0.005715</td>\n",
              "      <td>0.103159</td>\n",
              "      <td>0.992041</td>\n",
              "      <td>1.000000</td>\n",
              "      <td>0.629297</td>\n",
              "      <td>0.627041</td>\n",
              "      <td>0.754341</td>\n",
              "      <td>0.750467</td>\n",
              "      <td>0.309676</td>\n",
              "      <td>0.309799</td>\n",
              "    </tr>\n",
              "    <tr>\n",
              "      <th>utilib_taken_sum</th>\n",
              "      <td>-0.132142</td>\n",
              "      <td>0.010958</td>\n",
              "      <td>0.075870</td>\n",
              "      <td>0.626960</td>\n",
              "      <td>0.629297</td>\n",
              "      <td>1.000000</td>\n",
              "      <td>0.896131</td>\n",
              "      <td>0.505760</td>\n",
              "      <td>0.497382</td>\n",
              "      <td>0.204125</td>\n",
              "      <td>0.203032</td>\n",
              "    </tr>\n",
              "    <tr>\n",
              "      <th>utilib_returned_sum</th>\n",
              "      <td>-0.129783</td>\n",
              "      <td>0.010642</td>\n",
              "      <td>0.077932</td>\n",
              "      <td>0.625355</td>\n",
              "      <td>0.627041</td>\n",
              "      <td>0.896131</td>\n",
              "      <td>1.000000</td>\n",
              "      <td>0.508498</td>\n",
              "      <td>0.500723</td>\n",
              "      <td>0.202881</td>\n",
              "      <td>0.202152</td>\n",
              "    </tr>\n",
              "    <tr>\n",
              "      <th>utilib_14_taken_sum</th>\n",
              "      <td>-0.150472</td>\n",
              "      <td>0.011844</td>\n",
              "      <td>0.086363</td>\n",
              "      <td>0.751659</td>\n",
              "      <td>0.754341</td>\n",
              "      <td>0.505760</td>\n",
              "      <td>0.508498</td>\n",
              "      <td>1.000000</td>\n",
              "      <td>0.948078</td>\n",
              "      <td>0.220987</td>\n",
              "      <td>0.219591</td>\n",
              "    </tr>\n",
              "    <tr>\n",
              "      <th>utilib_14_returned_sum</th>\n",
              "      <td>-0.149341</td>\n",
              "      <td>0.016537</td>\n",
              "      <td>0.083896</td>\n",
              "      <td>0.747126</td>\n",
              "      <td>0.750467</td>\n",
              "      <td>0.497382</td>\n",
              "      <td>0.500723</td>\n",
              "      <td>0.948078</td>\n",
              "      <td>1.000000</td>\n",
              "      <td>0.216981</td>\n",
              "      <td>0.218259</td>\n",
              "    </tr>\n",
              "    <tr>\n",
              "      <th>slots_freed_sum</th>\n",
              "      <td>-0.121932</td>\n",
              "      <td>-0.001043</td>\n",
              "      <td>0.020186</td>\n",
              "      <td>0.312955</td>\n",
              "      <td>0.309676</td>\n",
              "      <td>0.204125</td>\n",
              "      <td>0.202881</td>\n",
              "      <td>0.220987</td>\n",
              "      <td>0.216981</td>\n",
              "      <td>1.000000</td>\n",
              "      <td>0.985033</td>\n",
              "    </tr>\n",
              "    <tr>\n",
              "      <th>slots_taken_sum</th>\n",
              "      <td>-0.120596</td>\n",
              "      <td>-0.002158</td>\n",
              "      <td>0.014675</td>\n",
              "      <td>0.310257</td>\n",
              "      <td>0.309799</td>\n",
              "      <td>0.203032</td>\n",
              "      <td>0.202152</td>\n",
              "      <td>0.219591</td>\n",
              "      <td>0.218259</td>\n",
              "      <td>0.985033</td>\n",
              "      <td>1.000000</td>\n",
              "    </tr>\n",
              "  </tbody>\n",
              "</table>\n",
              "</div>"
            ],
            "text/plain": [
              "                        postal_code  ...  slots_taken_sum\n",
              "postal_code                1.000000  ...        -0.120596\n",
              "n_daily_data_points        0.001195  ...        -0.002158\n",
              "dayofweek                  0.004671  ...         0.014675\n",
              "bluecars_taken_sum        -0.206847  ...         0.310257\n",
              "bluecars_returned_sum     -0.208021  ...         0.309799\n",
              "utilib_taken_sum          -0.132142  ...         0.203032\n",
              "utilib_returned_sum       -0.129783  ...         0.202152\n",
              "utilib_14_taken_sum       -0.150472  ...         0.219591\n",
              "utilib_14_returned_sum    -0.149341  ...         0.218259\n",
              "slots_freed_sum           -0.121932  ...         0.985033\n",
              "slots_taken_sum           -0.120596  ...         1.000000\n",
              "\n",
              "[11 rows x 11 columns]"
            ]
          },
          "metadata": {
            "tags": []
          },
          "execution_count": 115
        }
      ]
    },
    {
      "cell_type": "code",
      "metadata": {
        "id": "KMv9oi9B2sU7",
        "colab_type": "code",
        "colab": {
          "base_uri": "https://localhost:8080/",
          "height": 721
        },
        "outputId": "d067a370-961d-4ae1-ca7a-96253d961368"
      },
      "source": [
        "# We can plot a visualisation of the matrix for better clarity\n",
        "\n",
        "plt.figure(figsize=(10, 10)) \n",
        "\n",
        "# Creating our visualisation\n",
        "# \n",
        "sns.heatmap(corrMatrix, annot = True) \n",
        "\n",
        "#There is a high correlation between Blue cars taken and number of blue cars returned, utilib 14 taken and returned"
      ],
      "execution_count": null,
      "outputs": [
        {
          "output_type": "execute_result",
          "data": {
            "text/plain": [
              "<matplotlib.axes._subplots.AxesSubplot at 0x7f12aef5fb00>"
            ]
          },
          "metadata": {
            "tags": []
          },
          "execution_count": 116
        },
        {
          "output_type": "display_data",
          "data": {
            "image/png": "[encoded data removed]",
            "text/plain": [
              "<Figure size 720x720 with 2 Axes>"
            ]
          },
          "metadata": {
            "tags": []
          }
        }
      ]
    },
    {
      "cell_type": "code",
      "metadata": {
        "id": "9TwOlhQ_-ltc",
        "colab_type": "code",
        "colab": {
          "base_uri": "https://localhost:8080/",
          "height": 406
        },
        "outputId": "57ae6cad-89f3-4ed6-f2e5-86fd9362fc01"
      },
      "source": [
        " #Blue cars taken by day and postal code\n",
        " x=(df[['bluecars_taken_sum','day_type','postal_code']])\n",
        " x"
      ],
      "execution_count": null,
      "outputs": [
        {
          "output_type": "execute_result",
          "data": {
            "text/html": [
              "<div>\n",
              "<style scoped>\n",
              "    .dataframe tbody tr th:only-of-type {\n",
              "        vertical-align: middle;\n",
              "    }\n",
              "\n",
              "    .dataframe tbody tr th {\n",
              "        vertical-align: top;\n",
              "    }\n",
              "\n",
              "    .dataframe thead th {\n",
              "        text-align: right;\n",
              "    }\n",
              "</style>\n",
              "<table border=\"1\" class=\"dataframe\">\n",
              "  <thead>\n",
              "    <tr style=\"text-align: right;\">\n",
              "      <th></th>\n",
              "      <th>bluecars_taken_sum</th>\n",
              "      <th>day_type</th>\n",
              "      <th>postal_code</th>\n",
              "    </tr>\n",
              "  </thead>\n",
              "  <tbody>\n",
              "    <tr>\n",
              "      <th>0</th>\n",
              "      <td>110</td>\n",
              "      <td>weekday</td>\n",
              "      <td>75001</td>\n",
              "    </tr>\n",
              "    <tr>\n",
              "      <th>1</th>\n",
              "      <td>98</td>\n",
              "      <td>weekday</td>\n",
              "      <td>75001</td>\n",
              "    </tr>\n",
              "    <tr>\n",
              "      <th>2</th>\n",
              "      <td>138</td>\n",
              "      <td>weekday</td>\n",
              "      <td>75001</td>\n",
              "    </tr>\n",
              "    <tr>\n",
              "      <th>3</th>\n",
              "      <td>104</td>\n",
              "      <td>weekday</td>\n",
              "      <td>75001</td>\n",
              "    </tr>\n",
              "    <tr>\n",
              "      <th>4</th>\n",
              "      <td>114</td>\n",
              "      <td>weekday</td>\n",
              "      <td>75001</td>\n",
              "    </tr>\n",
              "    <tr>\n",
              "      <th>...</th>\n",
              "      <td>...</td>\n",
              "      <td>...</td>\n",
              "      <td>...</td>\n",
              "    </tr>\n",
              "    <tr>\n",
              "      <th>16080</th>\n",
              "      <td>15</td>\n",
              "      <td>weekday</td>\n",
              "      <td>95880</td>\n",
              "    </tr>\n",
              "    <tr>\n",
              "      <th>16081</th>\n",
              "      <td>19</td>\n",
              "      <td>weekend</td>\n",
              "      <td>95880</td>\n",
              "    </tr>\n",
              "    <tr>\n",
              "      <th>16082</th>\n",
              "      <td>33</td>\n",
              "      <td>weekend</td>\n",
              "      <td>95880</td>\n",
              "    </tr>\n",
              "    <tr>\n",
              "      <th>16083</th>\n",
              "      <td>11</td>\n",
              "      <td>weekday</td>\n",
              "      <td>95880</td>\n",
              "    </tr>\n",
              "    <tr>\n",
              "      <th>16084</th>\n",
              "      <td>2</td>\n",
              "      <td>weekday</td>\n",
              "      <td>95880</td>\n",
              "    </tr>\n",
              "  </tbody>\n",
              "</table>\n",
              "<p>16085 rows × 3 columns</p>\n",
              "</div>"
            ],
            "text/plain": [
              "       bluecars_taken_sum day_type  postal_code\n",
              "0                     110  weekday        75001\n",
              "1                      98  weekday        75001\n",
              "2                     138  weekday        75001\n",
              "3                     104  weekday        75001\n",
              "4                     114  weekday        75001\n",
              "...                   ...      ...          ...\n",
              "16080                  15  weekday        95880\n",
              "16081                  19  weekend        95880\n",
              "16082                  33  weekend        95880\n",
              "16083                  11  weekday        95880\n",
              "16084                   2  weekday        95880\n",
              "\n",
              "[16085 rows x 3 columns]"
            ]
          },
          "metadata": {
            "tags": []
          },
          "execution_count": 62
        }
      ]
    },
    {
      "cell_type": "markdown",
      "metadata": {
        "id": "R1ZCdIt0uzTI",
        "colab_type": "text"
      },
      "source": [
        "#6.Hypothesis testing\n",
        "a) Using Z-test\n",
        "Hypothesis is a claim that we are trying to investigate. The basis of the hypothesis that we will investigate is:  \n",
        "\n",
        "The management of Autolib are getting pressure from employees who want to take a day off over the weekend. The management is hesitant to allow this as they believe that the mean population of blue cars taken on weekdays is the same as those taken over the weekend. \n",
        "I have been tasked me to investigate this claim to gain evidence that there is no significance difference between the two, the employees think otherwise. This will strengthen their basis of argument as they believe the company need good number of employees to serve the high number of customers on the weekends (as this has only 2 days), while weekdays has 5 days. \n",
        "\n",
        "step1: We will create the hypothesis as below:\n",
        "Ho:=> mu1-mu2=0 # the mean are the same \n",
        "H1: => mu1-m2!=0. # the mean are not the same\n",
        "\n",
        "step2: We will choose the appropriate statistical test\n",
        "In this case we will use Z-score two tailed test\n",
        "\n",
        "step 3: We will set our level of significance (alpha) to 0.001 area of rejection on z score will be two sided test critical z value is 3.09\n",
        "\n",
        "Step 4: We will compare observed values and the critical value\n",
        "\n",
        "When using p-value, we will compare p-value with the level of significance, if p value is lower or equals to sigma, we will will reject the Null hypothesis, if its greater, we will fail to reject the Null hypothesis.\n",
        "\n",
        "step 5: Make conclusion of our decision"
      ]
    },
    {
      "cell_type": "code",
      "metadata": {
        "id": "O9yfXpc0-0-z",
        "colab_type": "code",
        "colab": {
          "base_uri": "https://localhost:8080/",
          "height": 137
        },
        "outputId": "56324bd0-04c2-4ec5-dd81-8d3408d221c2"
      },
      "source": [
        "#Getting the population mean for Blue cars taken on weekdays and weekend\n",
        "\n",
        "pd.pivot_table(df_out,index=['day_type'],values='bluecars_taken_sum',aggfunc='mean')\n",
        "\n",
        "# mean of blue cars taken on weekday\t45.56055\n",
        "#mean of blue cars taken on weekend\t57.718529\n"
      ],
      "execution_count": null,
      "outputs": [
        {
          "output_type": "execute_result",
          "data": {
            "text/html": [
              "<div>\n",
              "<style scoped>\n",
              "    .dataframe tbody tr th:only-of-type {\n",
              "        vertical-align: middle;\n",
              "    }\n",
              "\n",
              "    .dataframe tbody tr th {\n",
              "        vertical-align: top;\n",
              "    }\n",
              "\n",
              "    .dataframe thead th {\n",
              "        text-align: right;\n",
              "    }\n",
              "</style>\n",
              "<table border=\"1\" class=\"dataframe\">\n",
              "  <thead>\n",
              "    <tr style=\"text-align: right;\">\n",
              "      <th></th>\n",
              "      <th>bluecars_taken_sum</th>\n",
              "    </tr>\n",
              "    <tr>\n",
              "      <th>day_type</th>\n",
              "      <th></th>\n",
              "    </tr>\n",
              "  </thead>\n",
              "  <tbody>\n",
              "    <tr>\n",
              "      <th>weekday</th>\n",
              "      <td>45.560557</td>\n",
              "    </tr>\n",
              "    <tr>\n",
              "      <th>weekend</th>\n",
              "      <td>57.718529</td>\n",
              "    </tr>\n",
              "  </tbody>\n",
              "</table>\n",
              "</div>"
            ],
            "text/plain": [
              "          bluecars_taken_sum\n",
              "day_type                    \n",
              "weekday            45.560557\n",
              "weekend            57.718529"
            ]
          },
          "metadata": {
            "tags": []
          },
          "execution_count": 82
        }
      ]
    },
    {
      "cell_type": "code",
      "metadata": {
        "id": "6BqJBQ8X-8Vp",
        "colab_type": "code",
        "colab": {
          "base_uri": "https://localhost:8080/",
          "height": 34
        },
        "outputId": "9bb9300b-edd0-4aa4-ca48-e068c8fc603b"
      },
      "source": [
        "#Printing blue cars taken on weekdays \n",
        "\n",
        "bluecars_taken_weekdays=df_out[df_out['day_type']=='weekday']['bluecars_taken_sum'].values\n",
        "bluecars_taken_weekdays "
      ],
      "execution_count": null,
      "outputs": [
        {
          "output_type": "execute_result",
          "data": {
            "text/plain": [
              "array([19, 10, 11, ..., 15, 15, 11])"
            ]
          },
          "metadata": {
            "tags": []
          },
          "execution_count": 83
        }
      ]
    },
    {
      "cell_type": "code",
      "metadata": {
        "id": "RzF-4hSoMXVj",
        "colab_type": "code",
        "colab": {
          "base_uri": "https://localhost:8080/",
          "height": 34
        },
        "outputId": "2fa6414b-cb34-465e-d86b-a76a4fcecf2b"
      },
      "source": [
        "#Printing blue cars taken on weekend\n",
        "\n",
        "bluecars_taken_weekend=df_out[df_out['day_type']=='weekend']['bluecars_taken_sum'].values\n",
        "bluecars_taken_weekend "
      ],
      "execution_count": null,
      "outputs": [
        {
          "output_type": "execute_result",
          "data": {
            "text/plain": [
              "array([28, 24, 27, ..., 34, 19, 33])"
            ]
          },
          "metadata": {
            "tags": []
          },
          "execution_count": 84
        }
      ]
    },
    {
      "cell_type": "code",
      "metadata": {
        "id": "245jJfvLMmvq",
        "colab_type": "code",
        "colab": {
          "base_uri": "https://localhost:8080/",
          "height": 443
        },
        "outputId": "795afd50-fcef-42c9-b054-4f860d7d9d3c"
      },
      "source": [
        "# Getting a random sample size of 300 blue cars taken on weekdays\n",
        "\n",
        "sampleofbluecars_taken_weekdays=bluecars_taken_weekdays[np.argsort(np.random.random_sample(len(bluecars_taken_weekdays)))[:300]]\n",
        "\n",
        "sampleofbluecars_taken_weekdays "
      ],
      "execution_count": null,
      "outputs": [
        {
          "output_type": "execute_result",
          "data": {
            "text/plain": [
              "array([ 47,  59,  20,  46,   2,  53, 161, 125,  11,  28,  37,  44,  36,\n",
              "        19,  87,   1,  14,  40,  20, 120,  13,   2,  73,   5,  20, 284,\n",
              "        92,  71,   9,  19,  44,  16,  17,   9,  67,  84,  29, 104,  14,\n",
              "         2,  34,  10,  49,  27,  38,  83,  28,  11, 154,  20,   8,  10,\n",
              "        24,   9,   8, 123,  81,  21,  65,  14,  95,  61,   8,  67,  67,\n",
              "         9, 160,  28,  48,  16,  11, 290,  24,  67,  64,   1,  25,   7,\n",
              "        26,  95,  33,  62,  15,  24,  84,  58,  35,  90,  26,   4,  80,\n",
              "        31,  30, 110,  28,   9,  20,   9, 287,  24,  12,  46,   6,   5,\n",
              "        21,   9,  63,  71,  55, 114,  86,  16,  77,  19, 109,  38,  67,\n",
              "        77,  11,  25,  18,  18,  99,  14,  11, 107, 106,  58,  45,  46,\n",
              "         2,   6,  21,  72,  66,  24,  10,  51,  12,  20,  52,  18,  11,\n",
              "        52,  13,  47,  58,  10,  60,  30,  54,  49,  31,  14,  46,  16,\n",
              "        20,  23, 113,  30,  19,  13,  27,  18,  28,   2,  45,  29,   7,\n",
              "         7,   5,  58,  40,  30,   6,  84,  16,  65, 187,  26,  55,  41,\n",
              "        19,  26,  28,  15,  11,  28,  17, 237,   8,  50,  10,  11,  42,\n",
              "        64,  30,  65,  13,  84,  90,  73,  71,  23, 111,   5,  46,  17,\n",
              "        83,  72,  14,  28,  27, 115, 153,  19, 101,  92,  44,  42,  17,\n",
              "        13,   6,  12,  30, 118, 144, 140, 146,  29,  11,  70,  26,  26,\n",
              "        88,  35,  30,  14,  18,  14,  11,  88, 152,  36,  36,  22,  16,\n",
              "        46,  90, 110,  35,   1,  14,  20,  31,  10, 151,  16,  74,  13,\n",
              "        11,  51,  81,  21,  29,  40,  32,  45,   7,   9, 115, 112,  13,\n",
              "         4,   9,  10,   4,  18,  17,  51, 150,  37,  14,  90,   2,  21,\n",
              "        24,  77,  12,  11,  60,  34,  41,  70,   1,  67,  36,  15,  15,\n",
              "        12])"
            ]
          },
          "metadata": {
            "tags": []
          },
          "execution_count": 88
        }
      ]
    },
    {
      "cell_type": "code",
      "metadata": {
        "id": "_zOfo0bTMmq9",
        "colab_type": "code",
        "colab": {
          "base_uri": "https://localhost:8080/",
          "height": 443
        },
        "outputId": "8d856f55-60a7-4a47-92da-d6c0b545aa2e"
      },
      "source": [
        "# Getting a random sample size of 300 blue cars taken on weekend\n",
        "\n",
        "sampleofbluecars_taken_weekend=bluecars_taken_weekend[np.argsort(np.random.random_sample(len(bluecars_taken_weekend)))[:300]]\n",
        "\n",
        "sampleofbluecars_taken_weekend"
      ],
      "execution_count": null,
      "outputs": [
        {
          "output_type": "execute_result",
          "data": {
            "text/plain": [
              "array([ 48,  68, 137,  26,  38,  14, 201,  26, 177, 109,  23, 106,   3,\n",
              "        92, 173,  58,  23,  74, 175,  37,  15,  23,  20, 108,   1,  39,\n",
              "        10, 161,  33,  39,  36,  16,  21,  22,  23,  37, 143,   2, 141,\n",
              "         7,  37,  22,  26, 113, 198,  50,  40,  14, 214,  34,  19,  30,\n",
              "        76,  60, 149,  21,  63, 108,  44,  32,   9,  70, 108,  31, 110,\n",
              "        32, 134,  38,   9,  37,  64,  17, 116,  21,  80,  33,  20,  35,\n",
              "        16,  81, 106, 109,   7,  38,  30,  57,   7,  22,   9,  48,  15,\n",
              "        75,  96,  93, 144,  18,  56,  18,  28,  38, 137,  23,   3,  54,\n",
              "         9, 104,   8,  23,  17, 134,  67,  60,  56,  74,  79,  50,   7,\n",
              "        55,  29,  34, 163,  28,   5,  15,  17,   3,  77,  69,  82,  22,\n",
              "       106,  18,  20,  26,  33,  42,  33,  39,  77,   1, 115,  11,  18,\n",
              "        67,   3,  26,  86, 165,  20, 148,  69,  45, 105,  62,  90,  62,\n",
              "       106,  90,  93,  28,  20,  43,  27,  26,  40,  73, 106,  97,  52,\n",
              "        13,  19,  75,  86, 134,  66,  23,  94,  26,   7,  25,  11,  24,\n",
              "         0,  61,  32,  65,  46,  51,  89, 213,  63,  74,  17,  99,   7,\n",
              "         7,  24,  65,  34,   1,  15,  35,  20, 162,  61,  56,  32,  59,\n",
              "       132,  54,  21, 116,   4,  28,  14,  78, 108,  44,  27, 113,  40,\n",
              "        43,  37,  36, 111, 256,  18, 201,  22,  94,  29, 127,   7,  17,\n",
              "       224,  83,  14,  87, 115,  26,  62,  16,  23,  28,  72,  22,  32,\n",
              "        85,  91,  93,  47,  19,  93,  87,  42,   4,  27,  70, 110,  57,\n",
              "        15,  95, 116,   7,  89,  54, 156, 117,  34,  62,  56,  25,  45,\n",
              "         7,   8,  31,  26,  52, 115, 155,  64,   1,  28,  43,  50,  46,\n",
              "        50,   4,  39,  30,   5,  31,  26,  27,  32, 116,  19,  71,  66,\n",
              "        52])"
            ]
          },
          "metadata": {
            "tags": []
          },
          "execution_count": 90
        }
      ]
    },
    {
      "cell_type": "code",
      "metadata": {
        "id": "lA-PFYNnNXIX",
        "colab_type": "code",
        "colab": {}
      },
      "source": [
        "#Calculating variance of blue cars population and mean of sample blue cars for weekdays and weekend\n",
        "\n",
        "varianceofPopbluecars_taken_weekdays=np.var(bluecars_taken_weekdays) \n",
        "varianceofPopbluecars_taken_weekend=np.var(bluecars_taken_weekend)\n",
        "\n",
        "\n",
        "meanOfSampcars_weekdays=np.mean(sampleofbluecars_taken_weekdays)\n",
        "meanOfSampcars_weekend=np.mean(sampleofbluecars_taken_weekend)\n",
        "\n",
        "n1=300 \n",
        "n2=300"
      ],
      "execution_count": null,
      "outputs": []
    },
    {
      "cell_type": "code",
      "metadata": {
        "id": "7eyMnegcNXSG",
        "colab_type": "code",
        "colab": {
          "base_uri": "https://localhost:8080/",
          "height": 34
        },
        "outputId": "769b9216-15ff-46aa-e1a3-30544d0513a6"
      },
      "source": [
        " #Calculating the Z-test which is the observed value\n",
        " #We have population parameters we can calculate the variance of the population\n",
        " #Hence calculating the z value which is our observed values\n",
        " #Note mu1-mu1=0 so we don't need to calculate it, this comes from our hypothesis testing Ho\n",
        "\n",
        "import math \n",
        "(meanOfSampcars_weekdays-meanOfSampcars_weekend) - (0) / (math.sqrt((varianceofPopbluecars_taken_weekdays/300)+(varianceofPopbluecars_taken_weekend/300)))"
      ],
      "execution_count": null,
      "outputs": [
        {
          "output_type": "execute_result",
          "data": {
            "text/plain": [
              "-11.653333333333336"
            ]
          },
          "metadata": {
            "tags": []
          },
          "execution_count": 95
        }
      ]
    },
    {
      "cell_type": "markdown",
      "metadata": {
        "id": "ic-bhPalD3K_",
        "colab_type": "text"
      },
      "source": [
        "\n",
        "Our observed value z-score is -11.6533333336 this is less than 3.09 our crital value at 0.01 level of significance so we FAIL TO REJECT the null hypothesis, which stated that the mean of blue cars taken in weekdays is the same as the mean of blue cars taken over the weekend. We therefore have enough evidence that the mean of cars taken in weekdays minus the mean of cars taken durind weekdays is zero"
      ]
    },
    {
      "cell_type": "code",
      "metadata": {
        "id": "PR-klLFPeKO-",
        "colab_type": "code",
        "colab": {
          "base_uri": "https://localhost:8080/",
          "height": 35
        },
        "outputId": "206dde27-31eb-43ff-8a9a-3c5a0a13b9d8"
      },
      "source": [
        "#performing confidence interval estimation\n",
        "\n",
        "z=3.09 #at 0.01 significance level, menaing 99% confidence level\n",
        "'{} <= mu1 - mu2 <= {}'.format((meanOfSampcars_weekdays-meanOfSampcars_weekend)- z*(math.sqrt((varianceofPopbluecars_taken_weekdays/300)+(varianceofPopbluecars_taken_weekend/300))) ,(meanOfSampcars_weekdays-meanOfSampcars_weekend)+ z*(math.sqrt((varianceofPopbluecars_taken_weekdays/300)+(varianceofPopbluecars_taken_weekend/300))) )\n",
        "\n",
        "#Based on this estimation, there is no chance that zero which is the difference between mu1 and mu2  will fall in this interval"
      ],
      "execution_count": null,
      "outputs": [
        {
          "output_type": "execute_result",
          "data": {
            "application/vnd.google.colaboratory.intrinsic": {
              "type": "string"
            },
            "text/plain": [
              "'-23.470167703979488 <= mu1 - mu2 <= 0.16350103731281607'"
            ]
          },
          "metadata": {
            "tags": []
          },
          "execution_count": 98
        }
      ]
    },
    {
      "cell_type": "code",
      "metadata": {
        "id": "N6dij_n7fk7Q",
        "colab_type": "code",
        "colab": {
          "base_uri": "https://localhost:8080/",
          "height": 35
        },
        "outputId": "3191b0fd-7c84-4bae-9b52-bc162cde0f3a"
      },
      "source": [
        "z=1.64 #at 0.05 significance level, menaing 95% confidence level\n",
        "'{} <= mu1 - mu2 <= {}'.format((meanOfSampcars_weekdays-meanOfSampcars_weekend)- z*(math.sqrt((varianceofPopbluecars_taken_weekdays/300)+(varianceofPopbluecars_taken_weekend/300))) ,(meanOfSampcars_weekdays-meanOfSampcars_weekend)+ z*(math.sqrt((varianceofPopbluecars_taken_weekdays/300)+(varianceofPopbluecars_taken_weekend/300))) )\n",
        "\n",
        "#At 95% confidence level there is no chance that zero will fall in this estimation "
      ],
      "execution_count": null,
      "outputs": [
        {
          "output_type": "execute_result",
          "data": {
            "application/vnd.google.colaboratory.intrinsic": {
              "type": "string"
            },
            "text/plain": [
              "'-17.92505125173453 <= mu1 - mu2 <= -5.381615414932142'"
            ]
          },
          "metadata": {
            "tags": []
          },
          "execution_count": 100
        }
      ]
    },
    {
      "cell_type": "markdown",
      "metadata": {
        "id": "0ElDkI0xjkVK",
        "colab_type": "text"
      },
      "source": [
        "b)Using t-test"
      ]
    },
    {
      "cell_type": "code",
      "metadata": {
        "id": "tBH-6s9IR9Za",
        "colab_type": "code",
        "colab": {
          "base_uri": "https://localhost:8080/",
          "height": 34
        },
        "outputId": "57df826f-571f-4def-a6a0-cadea081329f"
      },
      "source": [
        "#Assuming we don't have the population data we can use t-test to implement hypothesis testing\n",
        "#Using the sample data of the 2 variables\n",
        "import scipy.stats as st\n",
        "st.ttest_ind(sampleofbluecars_taken_weekdays,sampleofbluecars_taken_weekend,equal_var=False)  #at aplha =.05\n",
        " \n"
      ],
      "execution_count": null,
      "outputs": [
        {
          "output_type": "execute_result",
          "data": {
            "text/plain": [
              "Ttest_indResult(statistic=-3.045062402695855, pvalue=0.0024288226655326175)"
            ]
          },
          "metadata": {
            "tags": []
          },
          "execution_count": 103
        }
      ]
    },
    {
      "cell_type": "markdown",
      "metadata": {
        "id": "oM_96yi5kSW8",
        "colab_type": "text"
      },
      "source": [
        "The P-value is 0.0024288, this is less than our alpha which is 0.05, in this case we will REJECT the null hypothesis. "
      ]
    }
  ]
}