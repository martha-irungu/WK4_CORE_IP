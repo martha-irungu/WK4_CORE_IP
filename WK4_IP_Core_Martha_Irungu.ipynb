{
  "nbformat": 4,
  "nbformat_minor": 0,
  "metadata": {
    "colab": {
      "name": "WK4 IP_Core_Martha Irungu",
      "provenance": [],
      "collapsed_sections": [],
      "toc_visible": true,
      "authorship_tag": "ABX9TyNPe3YhuIWQ7s/Toyfh39LD",
      "include_colab_link": true
    },
    "kernelspec": {
      "name": "python3",
      "display_name": "Python 3"
    }
  },
  "cells": [
    {
      "cell_type": "markdown",
      "metadata": {
        "id": "view-in-github",
        "colab_type": "text"
      },
      "source": [
        "<a href=\"https://colab.research.google.com/github/martha-irungu/WK4_CORE_IP/blob/master/WK4_IP_Core_Martha_Irungu.ipynb\" target=\"_parent\"><img src=\"https://colab.research.google.com/assets/colab-badge.svg\" alt=\"Open In Colab\"/></a>"
      ]
    },
    {
      "cell_type": "markdown",
      "metadata": {
        "id": "juysfNMy8Igc",
        "colab_type": "text"
      },
      "source": [
        "1.Defining the problem\n",
        "\n",
        "The research problem was to perform a hypothesis testing to investigate a claim; \n",
        "\n",
        "i)Hypothesis 1\n",
        "\n",
        "Testing whether the mean of blue cars taken in weekdays is the same as blue cars taken over the weekend.\n",
        "\n",
        "Ho:blue cars taken weekdays-bluecars taken weekend=0\n",
        "\n",
        "H1:blue cars taken weekdays-bluecars taken weekend!=0\n",
        "\n",
        "ii)Hypothesis 2\n",
        "\n",
        "Testing population mean for Blue cars taken from postal code 92100 is greater than those taken form postal code 91330\n",
        "\n",
        "Ho:blue cars taken from postal code 92100>=bluecars taken from postal code 91330\n",
        "\n",
        "H1:blue cars taken from postal code 92100< bluecars taken from postal code 91330\n",
        "\n",
        "b)Defining the Metric for Success\n",
        "\n",
        "•\tClearly stating a null hypothesis and alternative hypothesis\n",
        "•\tClearly stating an alternative hypothesis\n",
        "•\tGive the value of the test statistic\n",
        "•\tReport the P-value\n",
        "•\tClearly state your conclusion (i.e. ‘Reject the Null’ or fail to reject)\n",
        "\n",
        "\n",
        "c) Understanding the context\n",
        "\n",
        "Autolib’ was an electric car-sharing company owned by Bollore industrial group that operated in France in multiple cities including Paris between 2011 and 31st July 2018. Autolib owned cars which were which could be leased by public and returned after use. Since they were electric cars, there were charging stations located at different locations where customers could pick and drop back the cars after use.\n",
        "\n",
        "The model of electric cars used by Autolib was:\n",
        "•\tBlue car - A passenger electric car.\n",
        "More background details about this car are available on this link\n",
        "•\tUtilib car - This is a red-blue car. Apart from the passenger model, it has a delivery variant that has two seats to create more space for cargo. It’s red in color.\n",
        "•\tUtilib 1.4\n",
        "\n",
        "I am working as a data scientist for Autolib, the car-sharing service company. I have been tasked by the management to investigate the 2 claims. \n",
        "\n",
        "\n",
        "d) Recording the Experimental Design\n",
        "\n",
        "Below are the steps i took to implement this solution\n",
        "\n",
        "1) Business Understanding: This sheds light to the context of the business question that we are trying to answer hence keep the focus during the data analysis so that we meet the intended objective.\n",
        "\n",
        "2) Reading the data: Reading our data with and aim to understand the variables and observations.\n",
        "\n",
        "3) Checking our data: This to get details about the dataset, the number of records, the statistal summary,the datatypes in our dataset among others.\n",
        "\n",
        "4) Tidying the data, I performed all my data cleaning and preparation to make my data ready for analysis.\n",
        "\n",
        "5) EDA, the data was analysed and visualized.\n",
        "\n",
        "6) Implementing hypothesis testing\n",
        "\n",
        "7)Conclusion\n",
        "\n",
        "\n",
        "\n",
        "e) Data Relevance\n",
        "\n",
        "The data was sourced from Autolib, an electric car sharing company, hence relevant for the research question."
      ]
    },
    {
      "cell_type": "markdown",
      "metadata": {
        "id": "mnPNHTakrUY7",
        "colab_type": "text"
      },
      "source": [
        "#2. Reading the data"
      ]
    },
    {
      "cell_type": "code",
      "metadata": {
        "id": "tovuFxeA8QYO",
        "colab_type": "code",
        "colab": {}
      },
      "source": [
        "#Importing the libraries that we need\n",
        "import pandas as pd\n",
        "import numpy as np\n",
        "import seaborn as sns\n",
        "import matplotlib\n",
        "from matplotlib import pyplot as plt\n",
        "from scipy.stats import ttest_1samp\n",
        "from scipy.stats import ttest_ind\n",
        "from scipy import stats as st\n",
        "import scipy.stats as stats"
      ],
      "execution_count": 43,
      "outputs": []
    },
    {
      "cell_type": "markdown",
      "metadata": {
        "id": "X07TGFlJriyd",
        "colab_type": "text"
      },
      "source": [
        "#3. Checking the Data"
      ]
    },
    {
      "cell_type": "code",
      "metadata": {
        "id": "NDrP-bsvvRpw",
        "colab_type": "code",
        "colab": {
          "base_uri": "https://localhost:8080/",
          "height": 241
        },
        "outputId": "afe820a3-d0a5-4c20-a295-0f9469f478a1"
      },
      "source": [
        "#Previewing the top 5 records of our dataset\n",
        "df=pd.read_csv('autolib.csv')\n",
        "df.head() "
      ],
      "execution_count": 61,
      "outputs": [
        {
          "output_type": "execute_result",
          "data": {
            "text/html": [
              "<div>\n",
              "<style scoped>\n",
              "    .dataframe tbody tr th:only-of-type {\n",
              "        vertical-align: middle;\n",
              "    }\n",
              "\n",
              "    .dataframe tbody tr th {\n",
              "        vertical-align: top;\n",
              "    }\n",
              "\n",
              "    .dataframe thead th {\n",
              "        text-align: right;\n",
              "    }\n",
              "</style>\n",
              "<table border=\"1\" class=\"dataframe\">\n",
              "  <thead>\n",
              "    <tr style=\"text-align: right;\">\n",
              "      <th></th>\n",
              "      <th>Postal code</th>\n",
              "      <th>date</th>\n",
              "      <th>n_daily_data_points</th>\n",
              "      <th>dayOfWeek</th>\n",
              "      <th>day_type</th>\n",
              "      <th>BlueCars_taken_sum</th>\n",
              "      <th>BlueCars_returned_sum</th>\n",
              "      <th>Utilib_taken_sum</th>\n",
              "      <th>Utilib_returned_sum</th>\n",
              "      <th>Utilib_14_taken_sum</th>\n",
              "      <th>Utilib_14_returned_sum</th>\n",
              "      <th>Slots_freed_sum</th>\n",
              "      <th>Slots_taken_sum</th>\n",
              "    </tr>\n",
              "  </thead>\n",
              "  <tbody>\n",
              "    <tr>\n",
              "      <th>0</th>\n",
              "      <td>75001</td>\n",
              "      <td>1/1/2018</td>\n",
              "      <td>1440</td>\n",
              "      <td>0</td>\n",
              "      <td>weekday</td>\n",
              "      <td>110</td>\n",
              "      <td>103</td>\n",
              "      <td>3</td>\n",
              "      <td>2</td>\n",
              "      <td>10</td>\n",
              "      <td>9</td>\n",
              "      <td>22</td>\n",
              "      <td>20</td>\n",
              "    </tr>\n",
              "    <tr>\n",
              "      <th>1</th>\n",
              "      <td>75001</td>\n",
              "      <td>1/2/2018</td>\n",
              "      <td>1438</td>\n",
              "      <td>1</td>\n",
              "      <td>weekday</td>\n",
              "      <td>98</td>\n",
              "      <td>94</td>\n",
              "      <td>1</td>\n",
              "      <td>1</td>\n",
              "      <td>8</td>\n",
              "      <td>8</td>\n",
              "      <td>23</td>\n",
              "      <td>22</td>\n",
              "    </tr>\n",
              "    <tr>\n",
              "      <th>2</th>\n",
              "      <td>75001</td>\n",
              "      <td>1/3/2018</td>\n",
              "      <td>1439</td>\n",
              "      <td>2</td>\n",
              "      <td>weekday</td>\n",
              "      <td>138</td>\n",
              "      <td>139</td>\n",
              "      <td>0</td>\n",
              "      <td>0</td>\n",
              "      <td>2</td>\n",
              "      <td>2</td>\n",
              "      <td>27</td>\n",
              "      <td>27</td>\n",
              "    </tr>\n",
              "    <tr>\n",
              "      <th>3</th>\n",
              "      <td>75001</td>\n",
              "      <td>1/4/2018</td>\n",
              "      <td>1320</td>\n",
              "      <td>3</td>\n",
              "      <td>weekday</td>\n",
              "      <td>104</td>\n",
              "      <td>104</td>\n",
              "      <td>2</td>\n",
              "      <td>2</td>\n",
              "      <td>9</td>\n",
              "      <td>8</td>\n",
              "      <td>25</td>\n",
              "      <td>21</td>\n",
              "    </tr>\n",
              "    <tr>\n",
              "      <th>4</th>\n",
              "      <td>75001</td>\n",
              "      <td>1/5/2018</td>\n",
              "      <td>1440</td>\n",
              "      <td>4</td>\n",
              "      <td>weekday</td>\n",
              "      <td>114</td>\n",
              "      <td>117</td>\n",
              "      <td>3</td>\n",
              "      <td>3</td>\n",
              "      <td>6</td>\n",
              "      <td>6</td>\n",
              "      <td>18</td>\n",
              "      <td>20</td>\n",
              "    </tr>\n",
              "  </tbody>\n",
              "</table>\n",
              "</div>"
            ],
            "text/plain": [
              "   Postal code      date  ...  Slots_freed_sum  Slots_taken_sum\n",
              "0        75001  1/1/2018  ...               22               20\n",
              "1        75001  1/2/2018  ...               23               22\n",
              "2        75001  1/3/2018  ...               27               27\n",
              "3        75001  1/4/2018  ...               25               21\n",
              "4        75001  1/5/2018  ...               18               20\n",
              "\n",
              "[5 rows x 13 columns]"
            ]
          },
          "metadata": {
            "tags": []
          },
          "execution_count": 61
        }
      ]
    },
    {
      "cell_type": "code",
      "metadata": {
        "id": "xykVvhvcFs7m",
        "colab_type": "code",
        "colab": {
          "base_uri": "https://localhost:8080/",
          "height": 241
        },
        "outputId": "a1f3a681-a3ad-47ab-fb32-911c29ae7e4f"
      },
      "source": [
        "#Previewing tail of 5 records of our dataset\n",
        "df.tail()"
      ],
      "execution_count": 11,
      "outputs": [
        {
          "output_type": "execute_result",
          "data": {
            "text/html": [
              "<div>\n",
              "<style scoped>\n",
              "    .dataframe tbody tr th:only-of-type {\n",
              "        vertical-align: middle;\n",
              "    }\n",
              "\n",
              "    .dataframe tbody tr th {\n",
              "        vertical-align: top;\n",
              "    }\n",
              "\n",
              "    .dataframe thead th {\n",
              "        text-align: right;\n",
              "    }\n",
              "</style>\n",
              "<table border=\"1\" class=\"dataframe\">\n",
              "  <thead>\n",
              "    <tr style=\"text-align: right;\">\n",
              "      <th></th>\n",
              "      <th>Postal code</th>\n",
              "      <th>date</th>\n",
              "      <th>n_daily_data_points</th>\n",
              "      <th>dayOfWeek</th>\n",
              "      <th>day_type</th>\n",
              "      <th>BlueCars_taken_sum</th>\n",
              "      <th>BlueCars_returned_sum</th>\n",
              "      <th>Utilib_taken_sum</th>\n",
              "      <th>Utilib_returned_sum</th>\n",
              "      <th>Utilib_14_taken_sum</th>\n",
              "      <th>Utilib_14_returned_sum</th>\n",
              "      <th>Slots_freed_sum</th>\n",
              "      <th>Slots_taken_sum</th>\n",
              "    </tr>\n",
              "  </thead>\n",
              "  <tbody>\n",
              "    <tr>\n",
              "      <th>16080</th>\n",
              "      <td>95880</td>\n",
              "      <td>6/15/2018</td>\n",
              "      <td>1440</td>\n",
              "      <td>4</td>\n",
              "      <td>weekday</td>\n",
              "      <td>15</td>\n",
              "      <td>10</td>\n",
              "      <td>0</td>\n",
              "      <td>0</td>\n",
              "      <td>2</td>\n",
              "      <td>3</td>\n",
              "      <td>0</td>\n",
              "      <td>0</td>\n",
              "    </tr>\n",
              "    <tr>\n",
              "      <th>16081</th>\n",
              "      <td>95880</td>\n",
              "      <td>6/16/2018</td>\n",
              "      <td>1440</td>\n",
              "      <td>5</td>\n",
              "      <td>weekend</td>\n",
              "      <td>19</td>\n",
              "      <td>19</td>\n",
              "      <td>0</td>\n",
              "      <td>0</td>\n",
              "      <td>2</td>\n",
              "      <td>1</td>\n",
              "      <td>0</td>\n",
              "      <td>0</td>\n",
              "    </tr>\n",
              "    <tr>\n",
              "      <th>16082</th>\n",
              "      <td>95880</td>\n",
              "      <td>6/17/2018</td>\n",
              "      <td>1440</td>\n",
              "      <td>6</td>\n",
              "      <td>weekend</td>\n",
              "      <td>33</td>\n",
              "      <td>35</td>\n",
              "      <td>1</td>\n",
              "      <td>1</td>\n",
              "      <td>0</td>\n",
              "      <td>0</td>\n",
              "      <td>0</td>\n",
              "      <td>0</td>\n",
              "    </tr>\n",
              "    <tr>\n",
              "      <th>16083</th>\n",
              "      <td>95880</td>\n",
              "      <td>6/18/2018</td>\n",
              "      <td>1440</td>\n",
              "      <td>0</td>\n",
              "      <td>weekday</td>\n",
              "      <td>11</td>\n",
              "      <td>14</td>\n",
              "      <td>3</td>\n",
              "      <td>5</td>\n",
              "      <td>2</td>\n",
              "      <td>2</td>\n",
              "      <td>0</td>\n",
              "      <td>0</td>\n",
              "    </tr>\n",
              "    <tr>\n",
              "      <th>16084</th>\n",
              "      <td>95880</td>\n",
              "      <td>6/19/2018</td>\n",
              "      <td>1370</td>\n",
              "      <td>1</td>\n",
              "      <td>weekday</td>\n",
              "      <td>2</td>\n",
              "      <td>2</td>\n",
              "      <td>2</td>\n",
              "      <td>1</td>\n",
              "      <td>0</td>\n",
              "      <td>0</td>\n",
              "      <td>0</td>\n",
              "      <td>0</td>\n",
              "    </tr>\n",
              "  </tbody>\n",
              "</table>\n",
              "</div>"
            ],
            "text/plain": [
              "       Postal code       date  ...  Slots_freed_sum  Slots_taken_sum\n",
              "16080        95880  6/15/2018  ...                0                0\n",
              "16081        95880  6/16/2018  ...                0                0\n",
              "16082        95880  6/17/2018  ...                0                0\n",
              "16083        95880  6/18/2018  ...                0                0\n",
              "16084        95880  6/19/2018  ...                0                0\n",
              "\n",
              "[5 rows x 13 columns]"
            ]
          },
          "metadata": {
            "tags": []
          },
          "execution_count": 11
        }
      ]
    },
    {
      "cell_type": "code",
      "metadata": {
        "id": "dtT5qTVDvRsb",
        "colab_type": "code",
        "colab": {
          "base_uri": "https://localhost:8080/",
          "height": 255
        },
        "outputId": "a8dd7dd7-64ec-4f1a-c165-8066d8f574c3"
      },
      "source": [
        "#Checking the data types\n",
        "\n",
        "df.dtypes\n",
        "\n",
        "#Our dataset has integers and object data types"
      ],
      "execution_count": 12,
      "outputs": [
        {
          "output_type": "execute_result",
          "data": {
            "text/plain": [
              "Postal code                int64\n",
              "date                      object\n",
              "n_daily_data_points        int64\n",
              "dayOfWeek                  int64\n",
              "day_type                  object\n",
              "BlueCars_taken_sum         int64\n",
              "BlueCars_returned_sum      int64\n",
              "Utilib_taken_sum           int64\n",
              "Utilib_returned_sum        int64\n",
              "Utilib_14_taken_sum        int64\n",
              "Utilib_14_returned_sum     int64\n",
              "Slots_freed_sum            int64\n",
              "Slots_taken_sum            int64\n",
              "dtype: object"
            ]
          },
          "metadata": {
            "tags": []
          },
          "execution_count": 12
        }
      ]
    },
    {
      "cell_type": "code",
      "metadata": {
        "id": "IHvZBCsBeQss",
        "colab_type": "code",
        "colab": {
          "base_uri": "https://localhost:8080/",
          "height": 230
        },
        "outputId": "e873f843-abe7-436b-a413-a51033cb8e57"
      },
      "source": [
        "#Changing date from object to date time\n",
        "df.date=pd.to_datetime(df.date)\n",
        "df.head(3)"
      ],
      "execution_count": 13,
      "outputs": [
        {
          "output_type": "execute_result",
          "data": {
            "text/html": [
              "<div>\n",
              "<style scoped>\n",
              "    .dataframe tbody tr th:only-of-type {\n",
              "        vertical-align: middle;\n",
              "    }\n",
              "\n",
              "    .dataframe tbody tr th {\n",
              "        vertical-align: top;\n",
              "    }\n",
              "\n",
              "    .dataframe thead th {\n",
              "        text-align: right;\n",
              "    }\n",
              "</style>\n",
              "<table border=\"1\" class=\"dataframe\">\n",
              "  <thead>\n",
              "    <tr style=\"text-align: right;\">\n",
              "      <th></th>\n",
              "      <th>Postal code</th>\n",
              "      <th>date</th>\n",
              "      <th>n_daily_data_points</th>\n",
              "      <th>dayOfWeek</th>\n",
              "      <th>day_type</th>\n",
              "      <th>BlueCars_taken_sum</th>\n",
              "      <th>BlueCars_returned_sum</th>\n",
              "      <th>Utilib_taken_sum</th>\n",
              "      <th>Utilib_returned_sum</th>\n",
              "      <th>Utilib_14_taken_sum</th>\n",
              "      <th>Utilib_14_returned_sum</th>\n",
              "      <th>Slots_freed_sum</th>\n",
              "      <th>Slots_taken_sum</th>\n",
              "    </tr>\n",
              "  </thead>\n",
              "  <tbody>\n",
              "    <tr>\n",
              "      <th>0</th>\n",
              "      <td>75001</td>\n",
              "      <td>2018-01-01</td>\n",
              "      <td>1440</td>\n",
              "      <td>0</td>\n",
              "      <td>weekday</td>\n",
              "      <td>110</td>\n",
              "      <td>103</td>\n",
              "      <td>3</td>\n",
              "      <td>2</td>\n",
              "      <td>10</td>\n",
              "      <td>9</td>\n",
              "      <td>22</td>\n",
              "      <td>20</td>\n",
              "    </tr>\n",
              "    <tr>\n",
              "      <th>1</th>\n",
              "      <td>75001</td>\n",
              "      <td>2018-01-02</td>\n",
              "      <td>1438</td>\n",
              "      <td>1</td>\n",
              "      <td>weekday</td>\n",
              "      <td>98</td>\n",
              "      <td>94</td>\n",
              "      <td>1</td>\n",
              "      <td>1</td>\n",
              "      <td>8</td>\n",
              "      <td>8</td>\n",
              "      <td>23</td>\n",
              "      <td>22</td>\n",
              "    </tr>\n",
              "    <tr>\n",
              "      <th>2</th>\n",
              "      <td>75001</td>\n",
              "      <td>2018-01-03</td>\n",
              "      <td>1439</td>\n",
              "      <td>2</td>\n",
              "      <td>weekday</td>\n",
              "      <td>138</td>\n",
              "      <td>139</td>\n",
              "      <td>0</td>\n",
              "      <td>0</td>\n",
              "      <td>2</td>\n",
              "      <td>2</td>\n",
              "      <td>27</td>\n",
              "      <td>27</td>\n",
              "    </tr>\n",
              "  </tbody>\n",
              "</table>\n",
              "</div>"
            ],
            "text/plain": [
              "   Postal code       date  ...  Slots_freed_sum  Slots_taken_sum\n",
              "0        75001 2018-01-01  ...               22               20\n",
              "1        75001 2018-01-02  ...               23               22\n",
              "2        75001 2018-01-03  ...               27               27\n",
              "\n",
              "[3 rows x 13 columns]"
            ]
          },
          "metadata": {
            "tags": []
          },
          "execution_count": 13
        }
      ]
    },
    {
      "cell_type": "code",
      "metadata": {
        "id": "UY-2954ua5Bi",
        "colab_type": "code",
        "colab": {
          "base_uri": "https://localhost:8080/",
          "height": 255
        },
        "outputId": "534356ea-d67e-4e57-b832-da710d2f988c"
      },
      "source": [
        "#Checking if date is in date time data type\n",
        "df.dtypes "
      ],
      "execution_count": 14,
      "outputs": [
        {
          "output_type": "execute_result",
          "data": {
            "text/plain": [
              "Postal code                        int64\n",
              "date                      datetime64[ns]\n",
              "n_daily_data_points                int64\n",
              "dayOfWeek                          int64\n",
              "day_type                          object\n",
              "BlueCars_taken_sum                 int64\n",
              "BlueCars_returned_sum              int64\n",
              "Utilib_taken_sum                   int64\n",
              "Utilib_returned_sum                int64\n",
              "Utilib_14_taken_sum                int64\n",
              "Utilib_14_returned_sum             int64\n",
              "Slots_freed_sum                    int64\n",
              "Slots_taken_sum                    int64\n",
              "dtype: object"
            ]
          },
          "metadata": {
            "tags": []
          },
          "execution_count": 14
        }
      ]
    },
    {
      "cell_type": "code",
      "metadata": {
        "id": "B0snNYbSNCoi",
        "colab_type": "code",
        "colab": {
          "base_uri": "https://localhost:8080/",
          "height": 34
        },
        "outputId": "d35d31b2-4074-40fa-bf45-40b2d1ab951b"
      },
      "source": [
        "#Checking teh shape of our data\n",
        "df.shape \n",
        "\n",
        "#Our dataset has 16,085 rows and 13 columns"
      ],
      "execution_count": 15,
      "outputs": [
        {
          "output_type": "execute_result",
          "data": {
            "text/plain": [
              "(16085, 13)"
            ]
          },
          "metadata": {
            "tags": []
          },
          "execution_count": 15
        }
      ]
    },
    {
      "cell_type": "code",
      "metadata": {
        "id": "3Id7tPVgM7-5",
        "colab_type": "code",
        "colab": {
          "base_uri": "https://localhost:8080/",
          "height": 334
        },
        "outputId": "607ac229-80b6-4c6e-c585-c9a41a2002e1"
      },
      "source": [
        "#Checking statistical description of our dataset\n",
        "\n",
        "df.describe()"
      ],
      "execution_count": 16,
      "outputs": [
        {
          "output_type": "execute_result",
          "data": {
            "text/html": [
              "<div>\n",
              "<style scoped>\n",
              "    .dataframe tbody tr th:only-of-type {\n",
              "        vertical-align: middle;\n",
              "    }\n",
              "\n",
              "    .dataframe tbody tr th {\n",
              "        vertical-align: top;\n",
              "    }\n",
              "\n",
              "    .dataframe thead th {\n",
              "        text-align: right;\n",
              "    }\n",
              "</style>\n",
              "<table border=\"1\" class=\"dataframe\">\n",
              "  <thead>\n",
              "    <tr style=\"text-align: right;\">\n",
              "      <th></th>\n",
              "      <th>Postal code</th>\n",
              "      <th>n_daily_data_points</th>\n",
              "      <th>dayOfWeek</th>\n",
              "      <th>BlueCars_taken_sum</th>\n",
              "      <th>BlueCars_returned_sum</th>\n",
              "      <th>Utilib_taken_sum</th>\n",
              "      <th>Utilib_returned_sum</th>\n",
              "      <th>Utilib_14_taken_sum</th>\n",
              "      <th>Utilib_14_returned_sum</th>\n",
              "      <th>Slots_freed_sum</th>\n",
              "      <th>Slots_taken_sum</th>\n",
              "    </tr>\n",
              "  </thead>\n",
              "  <tbody>\n",
              "    <tr>\n",
              "      <th>count</th>\n",
              "      <td>16085.000000</td>\n",
              "      <td>16085.000000</td>\n",
              "      <td>16085.000000</td>\n",
              "      <td>16085.000000</td>\n",
              "      <td>16085.000000</td>\n",
              "      <td>16085.000000</td>\n",
              "      <td>16085.000000</td>\n",
              "      <td>16085.000000</td>\n",
              "      <td>16085.000000</td>\n",
              "      <td>16085.000000</td>\n",
              "      <td>16085.000000</td>\n",
              "    </tr>\n",
              "    <tr>\n",
              "      <th>mean</th>\n",
              "      <td>88791.293876</td>\n",
              "      <td>1431.330619</td>\n",
              "      <td>2.969599</td>\n",
              "      <td>125.926951</td>\n",
              "      <td>125.912714</td>\n",
              "      <td>3.698290</td>\n",
              "      <td>3.699099</td>\n",
              "      <td>8.600560</td>\n",
              "      <td>8.599192</td>\n",
              "      <td>22.629033</td>\n",
              "      <td>22.629282</td>\n",
              "    </tr>\n",
              "    <tr>\n",
              "      <th>std</th>\n",
              "      <td>7647.342000</td>\n",
              "      <td>33.212050</td>\n",
              "      <td>2.008378</td>\n",
              "      <td>185.426579</td>\n",
              "      <td>185.501535</td>\n",
              "      <td>5.815058</td>\n",
              "      <td>5.824634</td>\n",
              "      <td>12.870098</td>\n",
              "      <td>12.868993</td>\n",
              "      <td>52.120263</td>\n",
              "      <td>52.146030</td>\n",
              "    </tr>\n",
              "    <tr>\n",
              "      <th>min</th>\n",
              "      <td>75001.000000</td>\n",
              "      <td>1174.000000</td>\n",
              "      <td>0.000000</td>\n",
              "      <td>0.000000</td>\n",
              "      <td>0.000000</td>\n",
              "      <td>0.000000</td>\n",
              "      <td>0.000000</td>\n",
              "      <td>0.000000</td>\n",
              "      <td>0.000000</td>\n",
              "      <td>0.000000</td>\n",
              "      <td>0.000000</td>\n",
              "    </tr>\n",
              "    <tr>\n",
              "      <th>25%</th>\n",
              "      <td>91330.000000</td>\n",
              "      <td>1439.000000</td>\n",
              "      <td>1.000000</td>\n",
              "      <td>20.000000</td>\n",
              "      <td>20.000000</td>\n",
              "      <td>0.000000</td>\n",
              "      <td>0.000000</td>\n",
              "      <td>1.000000</td>\n",
              "      <td>1.000000</td>\n",
              "      <td>0.000000</td>\n",
              "      <td>0.000000</td>\n",
              "    </tr>\n",
              "    <tr>\n",
              "      <th>50%</th>\n",
              "      <td>92340.000000</td>\n",
              "      <td>1440.000000</td>\n",
              "      <td>3.000000</td>\n",
              "      <td>46.000000</td>\n",
              "      <td>46.000000</td>\n",
              "      <td>1.000000</td>\n",
              "      <td>1.000000</td>\n",
              "      <td>3.000000</td>\n",
              "      <td>3.000000</td>\n",
              "      <td>0.000000</td>\n",
              "      <td>0.000000</td>\n",
              "    </tr>\n",
              "    <tr>\n",
              "      <th>75%</th>\n",
              "      <td>93400.000000</td>\n",
              "      <td>1440.000000</td>\n",
              "      <td>5.000000</td>\n",
              "      <td>135.000000</td>\n",
              "      <td>135.000000</td>\n",
              "      <td>4.000000</td>\n",
              "      <td>4.000000</td>\n",
              "      <td>10.000000</td>\n",
              "      <td>10.000000</td>\n",
              "      <td>5.000000</td>\n",
              "      <td>5.000000</td>\n",
              "    </tr>\n",
              "    <tr>\n",
              "      <th>max</th>\n",
              "      <td>95880.000000</td>\n",
              "      <td>1440.000000</td>\n",
              "      <td>6.000000</td>\n",
              "      <td>1352.000000</td>\n",
              "      <td>1332.000000</td>\n",
              "      <td>54.000000</td>\n",
              "      <td>58.000000</td>\n",
              "      <td>100.000000</td>\n",
              "      <td>101.000000</td>\n",
              "      <td>360.000000</td>\n",
              "      <td>359.000000</td>\n",
              "    </tr>\n",
              "  </tbody>\n",
              "</table>\n",
              "</div>"
            ],
            "text/plain": [
              "        Postal code  n_daily_data_points  ...  Slots_freed_sum  Slots_taken_sum\n",
              "count  16085.000000         16085.000000  ...     16085.000000     16085.000000\n",
              "mean   88791.293876          1431.330619  ...        22.629033        22.629282\n",
              "std     7647.342000            33.212050  ...        52.120263        52.146030\n",
              "min    75001.000000          1174.000000  ...         0.000000         0.000000\n",
              "25%    91330.000000          1439.000000  ...         0.000000         0.000000\n",
              "50%    92340.000000          1440.000000  ...         0.000000         0.000000\n",
              "75%    93400.000000          1440.000000  ...         5.000000         5.000000\n",
              "max    95880.000000          1440.000000  ...       360.000000       359.000000\n",
              "\n",
              "[8 rows x 11 columns]"
            ]
          },
          "metadata": {
            "tags": []
          },
          "execution_count": 16
        }
      ]
    },
    {
      "cell_type": "code",
      "metadata": {
        "id": "O7odA4xea5FP",
        "colab_type": "code",
        "colab": {
          "base_uri": "https://localhost:8080/",
          "height": 261
        },
        "outputId": "77dc1a0d-ebe1-4223-dedc-7d10a5ee548e"
      },
      "source": [
        "#Setting date as index for ease of plotting and visualization\n",
        "df=df.set_index('date')\n",
        "df.head(3)"
      ],
      "execution_count": 17,
      "outputs": [
        {
          "output_type": "execute_result",
          "data": {
            "text/html": [
              "<div>\n",
              "<style scoped>\n",
              "    .dataframe tbody tr th:only-of-type {\n",
              "        vertical-align: middle;\n",
              "    }\n",
              "\n",
              "    .dataframe tbody tr th {\n",
              "        vertical-align: top;\n",
              "    }\n",
              "\n",
              "    .dataframe thead th {\n",
              "        text-align: right;\n",
              "    }\n",
              "</style>\n",
              "<table border=\"1\" class=\"dataframe\">\n",
              "  <thead>\n",
              "    <tr style=\"text-align: right;\">\n",
              "      <th></th>\n",
              "      <th>Postal code</th>\n",
              "      <th>n_daily_data_points</th>\n",
              "      <th>dayOfWeek</th>\n",
              "      <th>day_type</th>\n",
              "      <th>BlueCars_taken_sum</th>\n",
              "      <th>BlueCars_returned_sum</th>\n",
              "      <th>Utilib_taken_sum</th>\n",
              "      <th>Utilib_returned_sum</th>\n",
              "      <th>Utilib_14_taken_sum</th>\n",
              "      <th>Utilib_14_returned_sum</th>\n",
              "      <th>Slots_freed_sum</th>\n",
              "      <th>Slots_taken_sum</th>\n",
              "    </tr>\n",
              "    <tr>\n",
              "      <th>date</th>\n",
              "      <th></th>\n",
              "      <th></th>\n",
              "      <th></th>\n",
              "      <th></th>\n",
              "      <th></th>\n",
              "      <th></th>\n",
              "      <th></th>\n",
              "      <th></th>\n",
              "      <th></th>\n",
              "      <th></th>\n",
              "      <th></th>\n",
              "      <th></th>\n",
              "    </tr>\n",
              "  </thead>\n",
              "  <tbody>\n",
              "    <tr>\n",
              "      <th>2018-01-01</th>\n",
              "      <td>75001</td>\n",
              "      <td>1440</td>\n",
              "      <td>0</td>\n",
              "      <td>weekday</td>\n",
              "      <td>110</td>\n",
              "      <td>103</td>\n",
              "      <td>3</td>\n",
              "      <td>2</td>\n",
              "      <td>10</td>\n",
              "      <td>9</td>\n",
              "      <td>22</td>\n",
              "      <td>20</td>\n",
              "    </tr>\n",
              "    <tr>\n",
              "      <th>2018-01-02</th>\n",
              "      <td>75001</td>\n",
              "      <td>1438</td>\n",
              "      <td>1</td>\n",
              "      <td>weekday</td>\n",
              "      <td>98</td>\n",
              "      <td>94</td>\n",
              "      <td>1</td>\n",
              "      <td>1</td>\n",
              "      <td>8</td>\n",
              "      <td>8</td>\n",
              "      <td>23</td>\n",
              "      <td>22</td>\n",
              "    </tr>\n",
              "    <tr>\n",
              "      <th>2018-01-03</th>\n",
              "      <td>75001</td>\n",
              "      <td>1439</td>\n",
              "      <td>2</td>\n",
              "      <td>weekday</td>\n",
              "      <td>138</td>\n",
              "      <td>139</td>\n",
              "      <td>0</td>\n",
              "      <td>0</td>\n",
              "      <td>2</td>\n",
              "      <td>2</td>\n",
              "      <td>27</td>\n",
              "      <td>27</td>\n",
              "    </tr>\n",
              "  </tbody>\n",
              "</table>\n",
              "</div>"
            ],
            "text/plain": [
              "            Postal code  n_daily_data_points  ...  Slots_freed_sum Slots_taken_sum\n",
              "date                                          ...                                 \n",
              "2018-01-01        75001                 1440  ...               22              20\n",
              "2018-01-02        75001                 1438  ...               23              22\n",
              "2018-01-03        75001                 1439  ...               27              27\n",
              "\n",
              "[3 rows x 12 columns]"
            ]
          },
          "metadata": {
            "tags": []
          },
          "execution_count": 17
        }
      ]
    },
    {
      "cell_type": "code",
      "metadata": {
        "id": "3nPAZXlka5We",
        "colab_type": "code",
        "colab": {
          "base_uri": "https://localhost:8080/",
          "height": 153
        },
        "outputId": "0fb30723-5a11-4764-93c7-99d6b70a5de4"
      },
      "source": [
        "df.index "
      ],
      "execution_count": 18,
      "outputs": [
        {
          "output_type": "execute_result",
          "data": {
            "text/plain": [
              "DatetimeIndex(['2018-01-01', '2018-01-02', '2018-01-03', '2018-01-04',\n",
              "               '2018-01-05', '2018-01-06', '2018-01-07', '2018-01-08',\n",
              "               '2018-01-09', '2018-01-10',\n",
              "               ...\n",
              "               '2018-06-10', '2018-06-11', '2018-06-12', '2018-06-13',\n",
              "               '2018-06-14', '2018-06-15', '2018-06-16', '2018-06-17',\n",
              "               '2018-06-18', '2018-06-19'],\n",
              "              dtype='datetime64[ns]', name='date', length=16085, freq=None)"
            ]
          },
          "metadata": {
            "tags": []
          },
          "execution_count": 18
        }
      ]
    },
    {
      "cell_type": "code",
      "metadata": {
        "id": "SiMAe6CXIPMc",
        "colab_type": "code",
        "colab": {
          "base_uri": "https://localhost:8080/",
          "height": 340
        },
        "outputId": "fdfcb7c7-aaad-4e59-bcf7-a4bd20b0288d"
      },
      "source": [
        "# To align the columns in our dataset to fill in empty spaces \n",
        "\n",
        "df.columns = df.columns.str.strip().str.lower().str.replace(' ', '_').str.replace('(', '').str.replace(')', '')\n",
        "df.head()"
      ],
      "execution_count": 19,
      "outputs": [
        {
          "output_type": "execute_result",
          "data": {
            "text/html": [
              "<div>\n",
              "<style scoped>\n",
              "    .dataframe tbody tr th:only-of-type {\n",
              "        vertical-align: middle;\n",
              "    }\n",
              "\n",
              "    .dataframe tbody tr th {\n",
              "        vertical-align: top;\n",
              "    }\n",
              "\n",
              "    .dataframe thead th {\n",
              "        text-align: right;\n",
              "    }\n",
              "</style>\n",
              "<table border=\"1\" class=\"dataframe\">\n",
              "  <thead>\n",
              "    <tr style=\"text-align: right;\">\n",
              "      <th></th>\n",
              "      <th>postal_code</th>\n",
              "      <th>n_daily_data_points</th>\n",
              "      <th>dayofweek</th>\n",
              "      <th>day_type</th>\n",
              "      <th>bluecars_taken_sum</th>\n",
              "      <th>bluecars_returned_sum</th>\n",
              "      <th>utilib_taken_sum</th>\n",
              "      <th>utilib_returned_sum</th>\n",
              "      <th>utilib_14_taken_sum</th>\n",
              "      <th>utilib_14_returned_sum</th>\n",
              "      <th>slots_freed_sum</th>\n",
              "      <th>slots_taken_sum</th>\n",
              "    </tr>\n",
              "    <tr>\n",
              "      <th>date</th>\n",
              "      <th></th>\n",
              "      <th></th>\n",
              "      <th></th>\n",
              "      <th></th>\n",
              "      <th></th>\n",
              "      <th></th>\n",
              "      <th></th>\n",
              "      <th></th>\n",
              "      <th></th>\n",
              "      <th></th>\n",
              "      <th></th>\n",
              "      <th></th>\n",
              "    </tr>\n",
              "  </thead>\n",
              "  <tbody>\n",
              "    <tr>\n",
              "      <th>2018-01-01</th>\n",
              "      <td>75001</td>\n",
              "      <td>1440</td>\n",
              "      <td>0</td>\n",
              "      <td>weekday</td>\n",
              "      <td>110</td>\n",
              "      <td>103</td>\n",
              "      <td>3</td>\n",
              "      <td>2</td>\n",
              "      <td>10</td>\n",
              "      <td>9</td>\n",
              "      <td>22</td>\n",
              "      <td>20</td>\n",
              "    </tr>\n",
              "    <tr>\n",
              "      <th>2018-01-02</th>\n",
              "      <td>75001</td>\n",
              "      <td>1438</td>\n",
              "      <td>1</td>\n",
              "      <td>weekday</td>\n",
              "      <td>98</td>\n",
              "      <td>94</td>\n",
              "      <td>1</td>\n",
              "      <td>1</td>\n",
              "      <td>8</td>\n",
              "      <td>8</td>\n",
              "      <td>23</td>\n",
              "      <td>22</td>\n",
              "    </tr>\n",
              "    <tr>\n",
              "      <th>2018-01-03</th>\n",
              "      <td>75001</td>\n",
              "      <td>1439</td>\n",
              "      <td>2</td>\n",
              "      <td>weekday</td>\n",
              "      <td>138</td>\n",
              "      <td>139</td>\n",
              "      <td>0</td>\n",
              "      <td>0</td>\n",
              "      <td>2</td>\n",
              "      <td>2</td>\n",
              "      <td>27</td>\n",
              "      <td>27</td>\n",
              "    </tr>\n",
              "    <tr>\n",
              "      <th>2018-01-04</th>\n",
              "      <td>75001</td>\n",
              "      <td>1320</td>\n",
              "      <td>3</td>\n",
              "      <td>weekday</td>\n",
              "      <td>104</td>\n",
              "      <td>104</td>\n",
              "      <td>2</td>\n",
              "      <td>2</td>\n",
              "      <td>9</td>\n",
              "      <td>8</td>\n",
              "      <td>25</td>\n",
              "      <td>21</td>\n",
              "    </tr>\n",
              "    <tr>\n",
              "      <th>2018-01-05</th>\n",
              "      <td>75001</td>\n",
              "      <td>1440</td>\n",
              "      <td>4</td>\n",
              "      <td>weekday</td>\n",
              "      <td>114</td>\n",
              "      <td>117</td>\n",
              "      <td>3</td>\n",
              "      <td>3</td>\n",
              "      <td>6</td>\n",
              "      <td>6</td>\n",
              "      <td>18</td>\n",
              "      <td>20</td>\n",
              "    </tr>\n",
              "  </tbody>\n",
              "</table>\n",
              "</div>"
            ],
            "text/plain": [
              "            postal_code  n_daily_data_points  ...  slots_freed_sum slots_taken_sum\n",
              "date                                          ...                                 \n",
              "2018-01-01        75001                 1440  ...               22              20\n",
              "2018-01-02        75001                 1438  ...               23              22\n",
              "2018-01-03        75001                 1439  ...               27              27\n",
              "2018-01-04        75001                 1320  ...               25              21\n",
              "2018-01-05        75001                 1440  ...               18              20\n",
              "\n",
              "[5 rows x 12 columns]"
            ]
          },
          "metadata": {
            "tags": []
          },
          "execution_count": 19
        }
      ]
    },
    {
      "cell_type": "code",
      "metadata": {
        "id": "LH91pZV8Mo_9",
        "colab_type": "code",
        "colab": {
          "base_uri": "https://localhost:8080/",
          "height": 238
        },
        "outputId": "b39771fa-ed0a-4568-a953-dc522e0a7950"
      },
      "source": [
        "#Checking for null values\n",
        "\n",
        "df.isnull().sum()\n",
        "# Our dataset has no null values "
      ],
      "execution_count": 20,
      "outputs": [
        {
          "output_type": "execute_result",
          "data": {
            "text/plain": [
              "postal_code               0\n",
              "n_daily_data_points       0\n",
              "dayofweek                 0\n",
              "day_type                  0\n",
              "bluecars_taken_sum        0\n",
              "bluecars_returned_sum     0\n",
              "utilib_taken_sum          0\n",
              "utilib_returned_sum       0\n",
              "utilib_14_taken_sum       0\n",
              "utilib_14_returned_sum    0\n",
              "slots_freed_sum           0\n",
              "slots_taken_sum           0\n",
              "dtype: int64"
            ]
          },
          "metadata": {
            "tags": []
          },
          "execution_count": 20
        }
      ]
    },
    {
      "cell_type": "code",
      "metadata": {
        "id": "oTYw3BtnxFpw",
        "colab_type": "code",
        "colab": {
          "base_uri": "https://localhost:8080/",
          "height": 102
        },
        "outputId": "9c02b1fe-f851-4a39-fa42-fcf7957907bf"
      },
      "source": [
        "# check the columns that are in our dataset \n",
        "df.columns "
      ],
      "execution_count": 21,
      "outputs": [
        {
          "output_type": "execute_result",
          "data": {
            "text/plain": [
              "Index(['postal_code', 'n_daily_data_points', 'dayofweek', 'day_type',\n",
              "       'bluecars_taken_sum', 'bluecars_returned_sum', 'utilib_taken_sum',\n",
              "       'utilib_returned_sum', 'utilib_14_taken_sum', 'utilib_14_returned_sum',\n",
              "       'slots_freed_sum', 'slots_taken_sum'],\n",
              "      dtype='object')"
            ]
          },
          "metadata": {
            "tags": []
          },
          "execution_count": 21
        }
      ]
    },
    {
      "cell_type": "code",
      "metadata": {
        "id": "EaBFZTQ7xL_F",
        "colab_type": "code",
        "colab": {
          "base_uri": "https://localhost:8080/",
          "height": 238
        },
        "outputId": "897faa25-02d3-46e6-e4ff-175fc20201b0"
      },
      "source": [
        "# check for unique values in our dataset\n",
        "df.nunique()"
      ],
      "execution_count": 22,
      "outputs": [
        {
          "output_type": "execute_result",
          "data": {
            "text/plain": [
              "postal_code               104\n",
              "n_daily_data_points        23\n",
              "dayofweek                   7\n",
              "day_type                    2\n",
              "bluecars_taken_sum        932\n",
              "bluecars_returned_sum     929\n",
              "utilib_taken_sum           48\n",
              "utilib_returned_sum        49\n",
              "utilib_14_taken_sum        92\n",
              "utilib_14_returned_sum     94\n",
              "slots_freed_sum           297\n",
              "slots_taken_sum           301\n",
              "dtype: int64"
            ]
          },
          "metadata": {
            "tags": []
          },
          "execution_count": 22
        }
      ]
    },
    {
      "cell_type": "code",
      "metadata": {
        "id": "HusfweldRwmo",
        "colab_type": "code",
        "colab": {
          "base_uri": "https://localhost:8080/",
          "height": 221
        },
        "outputId": "b9e3eb67-0d56-4fc1-dcdc-b100f3433a8e"
      },
      "source": [
        "# checking unique values in columns\n",
        "\n",
        "df.postal_code.unique()"
      ],
      "execution_count": 23,
      "outputs": [
        {
          "output_type": "execute_result",
          "data": {
            "text/plain": [
              "array([75001, 75002, 75003, 75004, 75005, 75006, 75007, 75008, 75009,\n",
              "       75010, 75011, 75012, 75013, 75014, 75015, 75016, 75017, 75018,\n",
              "       75019, 75020, 75112, 75116, 78000, 78140, 78150, 91330, 91370,\n",
              "       91400, 92000, 92100, 92110, 92120, 92130, 92140, 92150, 92160,\n",
              "       92170, 92190, 92200, 92210, 92220, 92230, 92240, 92250, 92260,\n",
              "       92270, 92290, 92300, 92310, 92320, 92330, 92340, 92350, 92360,\n",
              "       92370, 92380, 92390, 92400, 92410, 92420, 92500, 92600, 92700,\n",
              "       92800, 93100, 93110, 93130, 93150, 93170, 93200, 93230, 93260,\n",
              "       93300, 93310, 93350, 93360, 93370, 93390, 93400, 93440, 93500,\n",
              "       93600, 93700, 93800, 94000, 94100, 94110, 94120, 94130, 94140,\n",
              "       94150, 94160, 94220, 94230, 94300, 94340, 94410, 94450, 94500,\n",
              "       94700, 94800, 95100, 95870, 95880])"
            ]
          },
          "metadata": {
            "tags": []
          },
          "execution_count": 23
        }
      ]
    },
    {
      "cell_type": "code",
      "metadata": {
        "id": "CuzFglsxWKix",
        "colab_type": "code",
        "colab": {
          "base_uri": "https://localhost:8080/",
          "height": 34
        },
        "outputId": "d0018e89-4e64-4854-f56b-b3bf5383b4c0"
      },
      "source": [
        "# checking unique values\n",
        "df.day_type.unique()"
      ],
      "execution_count": 24,
      "outputs": [
        {
          "output_type": "execute_result",
          "data": {
            "text/plain": [
              "array(['weekday', 'weekend'], dtype=object)"
            ]
          },
          "metadata": {
            "tags": []
          },
          "execution_count": 24
        }
      ]
    },
    {
      "cell_type": "markdown",
      "metadata": {
        "id": "paYekREjsbwN",
        "colab_type": "text"
      },
      "source": [
        "# 4. Tidying the Dataset"
      ]
    },
    {
      "cell_type": "code",
      "metadata": {
        "id": "HWN5G61ytDcH",
        "colab_type": "code",
        "colab": {
          "base_uri": "https://localhost:8080/",
          "height": 238
        },
        "outputId": "81e826ec-6398-4e8d-ae09-185b653d5017"
      },
      "source": [
        "# Checking for null values\n",
        "\n",
        "df.isnull().sum()\n",
        "\n",
        "# Our dataset has no null values"
      ],
      "execution_count": 25,
      "outputs": [
        {
          "output_type": "execute_result",
          "data": {
            "text/plain": [
              "postal_code               0\n",
              "n_daily_data_points       0\n",
              "dayofweek                 0\n",
              "day_type                  0\n",
              "bluecars_taken_sum        0\n",
              "bluecars_returned_sum     0\n",
              "utilib_taken_sum          0\n",
              "utilib_returned_sum       0\n",
              "utilib_14_taken_sum       0\n",
              "utilib_14_returned_sum    0\n",
              "slots_freed_sum           0\n",
              "slots_taken_sum           0\n",
              "dtype: int64"
            ]
          },
          "metadata": {
            "tags": []
          },
          "execution_count": 25
        }
      ]
    },
    {
      "cell_type": "code",
      "metadata": {
        "id": "2k-DMdnFyGDN",
        "colab_type": "code",
        "colab": {
          "base_uri": "https://localhost:8080/",
          "height": 280
        },
        "outputId": "2d78bd40-52bf-4c1c-b3dc-14ea6e64aabe"
      },
      "source": [
        "#Checking for outliers of Bluecars taken by day\n",
        "\n",
        "bplot=sns.boxplot( x ='bluecars_taken_sum', y= 'day_type',\n",
        "                 data=df, \n",
        "                 width=0.5,\n",
        "                 palette=\"colorblind\")\n",
        "\n",
        "#  Observation\n",
        "\n",
        "#  There are outliers in both weekday and weekend on blue cars taken"
      ],
      "execution_count": 26,
      "outputs": [
        {
          "output_type": "display_data",
          "data": {
            "image/png": "[encoded data removed]",
            "text/plain": [
              "<Figure size 432x288 with 1 Axes>"
            ]
          },
          "metadata": {
            "tags": [],
            "needs_background": "light"
          }
        }
      ]
    },
    {
      "cell_type": "code",
      "metadata": {
        "id": "3P0WZVnACcMT",
        "colab_type": "code",
        "colab": {
          "base_uri": "https://localhost:8080/",
          "height": 34
        },
        "outputId": "fe7d19a2-abe9-48a2-a898-5f37b4e42f74"
      },
      "source": [
        "#dealing with outliers as this will distort the mean\n",
        "\n",
        "Q1 = df.quantile(0.25) \n",
        "Q3 = df.quantile(0.75)\n",
        "IQR = Q3 - Q1\n",
        "\n",
        "df_out = df[~((df < (Q1 - 1.5 * IQR)) |(df > (Q3 + 1.5 * IQR))).any(axis=1)]\n",
        "df_out.shape"
      ],
      "execution_count": 27,
      "outputs": [
        {
          "output_type": "execute_result",
          "data": {
            "text/plain": [
              "(9783, 12)"
            ]
          },
          "metadata": {
            "tags": []
          },
          "execution_count": 27
        }
      ]
    },
    {
      "cell_type": "code",
      "metadata": {
        "id": "lAwbmZXU0be4",
        "colab_type": "code",
        "colab": {
          "base_uri": "https://localhost:8080/",
          "height": 280
        },
        "outputId": "2a9f9493-f41c-4279-f438-bfd80ce3ca60"
      },
      "source": [
        "#Confirming that outliers have dealt with\n",
        "\n",
        "bplot=sns.boxplot( x ='bluecars_taken_sum', y= 'day_type',\n",
        "                 data=df_out, \n",
        "                 width=0.5,\n",
        "                 palette=\"colorblind\")\n"
      ],
      "execution_count": 28,
      "outputs": [
        {
          "output_type": "display_data",
          "data": {
            "image/png": "[encoded data removed]",
            "text/plain": [
              "<Figure size 432x288 with 1 Axes>"
            ]
          },
          "metadata": {
            "tags": [],
            "needs_background": "light"
          }
        }
      ]
    },
    {
      "cell_type": "code",
      "metadata": {
        "id": "xJVFywmW3Xj9",
        "colab_type": "code",
        "colab": {}
      },
      "source": [
        ""
      ],
      "execution_count": null,
      "outputs": []
    },
    {
      "cell_type": "markdown",
      "metadata": {
        "id": "_gSYu77IuO5g",
        "colab_type": "text"
      },
      "source": [
        "#5. Univariate and Bivariate analysis"
      ]
    },
    {
      "cell_type": "code",
      "metadata": {
        "id": "gWvLZ2-Q3Zqg",
        "colab_type": "code",
        "colab": {
          "base_uri": "https://localhost:8080/",
          "height": 663
        },
        "outputId": "df69516d-07d0-4084-9c7d-8d4140b317f1"
      },
      "source": [
        " #Plotting our numerical variables on histogram to assess the relationship\n",
        "df_out.drop(['day_type'] ,axis=1).hist(bins=10, figsize=(10,10))\n",
        "plt.suptitle(\"Histogram of numeric variables Autolib dataset\")\n",
        "plt.savefig('Electric car sharing Histogram')\n",
        "plt.show()\n",
        "\n",
        "#Blue cars taken is positively skewed"
      ],
      "execution_count": 29,
      "outputs": [
        {
          "output_type": "display_data",
          "data": {
            "image/png": "[encoded data removed]",
            "text/plain": [
              "<Figure size 720x720 with 12 Axes>"
            ]
          },
          "metadata": {
            "tags": [],
            "needs_background": "light"
          }
        }
      ]
    },
    {
      "cell_type": "code",
      "metadata": {
        "id": "0R2CLbZU4Ov_",
        "colab_type": "code",
        "colab": {
          "base_uri": "https://localhost:8080/",
          "height": 297
        },
        "outputId": "1ec5323a-d093-4842-9a19-9ad279e15ebc"
      },
      "source": [
        "# Ditribution plot for bluecars taken\n",
        "sns.distplot(df_out['bluecars_taken_sum'], bins=20)\n",
        "\n",
        "# The distribution curve takes a normal distribution that is positively skewed"
      ],
      "execution_count": 30,
      "outputs": [
        {
          "output_type": "execute_result",
          "data": {
            "text/plain": [
              "<matplotlib.axes._subplots.AxesSubplot at 0x7f7571764240>"
            ]
          },
          "metadata": {
            "tags": []
          },
          "execution_count": 30
        },
        {
          "output_type": "display_data",
          "data": {
            "image/png": "[encoded data removed]",
            "text/plain": [
              "<Figure size 432x288 with 1 Axes>"
            ]
          },
          "metadata": {
            "tags": [],
            "needs_background": "light"
          }
        }
      ]
    },
    {
      "cell_type": "code",
      "metadata": {
        "id": "_kVhx1u85BkR",
        "colab_type": "code",
        "colab": {
          "base_uri": "https://localhost:8080/",
          "height": 297
        },
        "outputId": "ba5efc76-b794-4b9e-f20f-856ae9910b62"
      },
      "source": [
        "#Creating subplots on blue cars taken by day\n",
        "\n",
        "sns.barplot(x='day_type', y='bluecars_taken_sum', data = df_out)\n",
        "\n",
        "#This shows that more cars are taken over the weekend than weekdays"
      ],
      "execution_count": null,
      "outputs": [
        {
          "output_type": "execute_result",
          "data": {
            "text/plain": [
              "<matplotlib.axes._subplots.AxesSubplot at 0x7f12ae87c550>"
            ]
          },
          "metadata": {
            "tags": []
          },
          "execution_count": 113
        },
        {
          "output_type": "display_data",
          "data": {
            "image/png": "[encoded data removed]",
            "text/plain": [
              "<Figure size 432x288 with 1 Axes>"
            ]
          },
          "metadata": {
            "tags": []
          }
        }
      ]
    },
    {
      "cell_type": "code",
      "metadata": {
        "id": "fb5BedSR2sMa",
        "colab_type": "code",
        "colab": {
          "base_uri": "https://localhost:8080/",
          "height": 397
        },
        "outputId": "be8b4b02-9ebd-4470-8db1-208adf0ba3ec"
      },
      "source": [
        "#plotting Correlation matrix\n",
        "#\n",
        "corrMatrix = df_out.corr() \n",
        "corrMatrix"
      ],
      "execution_count": null,
      "outputs": [
        {
          "output_type": "execute_result",
          "data": {
            "text/html": [
              "<div>\n",
              "<style scoped>\n",
              "    .dataframe tbody tr th:only-of-type {\n",
              "        vertical-align: middle;\n",
              "    }\n",
              "\n",
              "    .dataframe tbody tr th {\n",
              "        vertical-align: top;\n",
              "    }\n",
              "\n",
              "    .dataframe thead th {\n",
              "        text-align: right;\n",
              "    }\n",
              "</style>\n",
              "<table border=\"1\" class=\"dataframe\">\n",
              "  <thead>\n",
              "    <tr style=\"text-align: right;\">\n",
              "      <th></th>\n",
              "      <th>postal_code</th>\n",
              "      <th>n_daily_data_points</th>\n",
              "      <th>dayofweek</th>\n",
              "      <th>bluecars_taken_sum</th>\n",
              "      <th>bluecars_returned_sum</th>\n",
              "      <th>utilib_taken_sum</th>\n",
              "      <th>utilib_returned_sum</th>\n",
              "      <th>utilib_14_taken_sum</th>\n",
              "      <th>utilib_14_returned_sum</th>\n",
              "      <th>slots_freed_sum</th>\n",
              "      <th>slots_taken_sum</th>\n",
              "    </tr>\n",
              "  </thead>\n",
              "  <tbody>\n",
              "    <tr>\n",
              "      <th>postal_code</th>\n",
              "      <td>1.000000</td>\n",
              "      <td>0.001195</td>\n",
              "      <td>0.004671</td>\n",
              "      <td>-0.206847</td>\n",
              "      <td>-0.208021</td>\n",
              "      <td>-0.132142</td>\n",
              "      <td>-0.129783</td>\n",
              "      <td>-0.150472</td>\n",
              "      <td>-0.149341</td>\n",
              "      <td>-0.121932</td>\n",
              "      <td>-0.120596</td>\n",
              "    </tr>\n",
              "    <tr>\n",
              "      <th>n_daily_data_points</th>\n",
              "      <td>0.001195</td>\n",
              "      <td>1.000000</td>\n",
              "      <td>0.098400</td>\n",
              "      <td>0.003433</td>\n",
              "      <td>0.005715</td>\n",
              "      <td>0.010958</td>\n",
              "      <td>0.010642</td>\n",
              "      <td>0.011844</td>\n",
              "      <td>0.016537</td>\n",
              "      <td>-0.001043</td>\n",
              "      <td>-0.002158</td>\n",
              "    </tr>\n",
              "    <tr>\n",
              "      <th>dayofweek</th>\n",
              "      <td>0.004671</td>\n",
              "      <td>0.098400</td>\n",
              "      <td>1.000000</td>\n",
              "      <td>0.110733</td>\n",
              "      <td>0.103159</td>\n",
              "      <td>0.075870</td>\n",
              "      <td>0.077932</td>\n",
              "      <td>0.086363</td>\n",
              "      <td>0.083896</td>\n",
              "      <td>0.020186</td>\n",
              "      <td>0.014675</td>\n",
              "    </tr>\n",
              "    <tr>\n",
              "      <th>bluecars_taken_sum</th>\n",
              "      <td>-0.206847</td>\n",
              "      <td>0.003433</td>\n",
              "      <td>0.110733</td>\n",
              "      <td>1.000000</td>\n",
              "      <td>0.992041</td>\n",
              "      <td>0.626960</td>\n",
              "      <td>0.625355</td>\n",
              "      <td>0.751659</td>\n",
              "      <td>0.747126</td>\n",
              "      <td>0.312955</td>\n",
              "      <td>0.310257</td>\n",
              "    </tr>\n",
              "    <tr>\n",
              "      <th>bluecars_returned_sum</th>\n",
              "      <td>-0.208021</td>\n",
              "      <td>0.005715</td>\n",
              "      <td>0.103159</td>\n",
              "      <td>0.992041</td>\n",
              "      <td>1.000000</td>\n",
              "      <td>0.629297</td>\n",
              "      <td>0.627041</td>\n",
              "      <td>0.754341</td>\n",
              "      <td>0.750467</td>\n",
              "      <td>0.309676</td>\n",
              "      <td>0.309799</td>\n",
              "    </tr>\n",
              "    <tr>\n",
              "      <th>utilib_taken_sum</th>\n",
              "      <td>-0.132142</td>\n",
              "      <td>0.010958</td>\n",
              "      <td>0.075870</td>\n",
              "      <td>0.626960</td>\n",
              "      <td>0.629297</td>\n",
              "      <td>1.000000</td>\n",
              "      <td>0.896131</td>\n",
              "      <td>0.505760</td>\n",
              "      <td>0.497382</td>\n",
              "      <td>0.204125</td>\n",
              "      <td>0.203032</td>\n",
              "    </tr>\n",
              "    <tr>\n",
              "      <th>utilib_returned_sum</th>\n",
              "      <td>-0.129783</td>\n",
              "      <td>0.010642</td>\n",
              "      <td>0.077932</td>\n",
              "      <td>0.625355</td>\n",
              "      <td>0.627041</td>\n",
              "      <td>0.896131</td>\n",
              "      <td>1.000000</td>\n",
              "      <td>0.508498</td>\n",
              "      <td>0.500723</td>\n",
              "      <td>0.202881</td>\n",
              "      <td>0.202152</td>\n",
              "    </tr>\n",
              "    <tr>\n",
              "      <th>utilib_14_taken_sum</th>\n",
              "      <td>-0.150472</td>\n",
              "      <td>0.011844</td>\n",
              "      <td>0.086363</td>\n",
              "      <td>0.751659</td>\n",
              "      <td>0.754341</td>\n",
              "      <td>0.505760</td>\n",
              "      <td>0.508498</td>\n",
              "      <td>1.000000</td>\n",
              "      <td>0.948078</td>\n",
              "      <td>0.220987</td>\n",
              "      <td>0.219591</td>\n",
              "    </tr>\n",
              "    <tr>\n",
              "      <th>utilib_14_returned_sum</th>\n",
              "      <td>-0.149341</td>\n",
              "      <td>0.016537</td>\n",
              "      <td>0.083896</td>\n",
              "      <td>0.747126</td>\n",
              "      <td>0.750467</td>\n",
              "      <td>0.497382</td>\n",
              "      <td>0.500723</td>\n",
              "      <td>0.948078</td>\n",
              "      <td>1.000000</td>\n",
              "      <td>0.216981</td>\n",
              "      <td>0.218259</td>\n",
              "    </tr>\n",
              "    <tr>\n",
              "      <th>slots_freed_sum</th>\n",
              "      <td>-0.121932</td>\n",
              "      <td>-0.001043</td>\n",
              "      <td>0.020186</td>\n",
              "      <td>0.312955</td>\n",
              "      <td>0.309676</td>\n",
              "      <td>0.204125</td>\n",
              "      <td>0.202881</td>\n",
              "      <td>0.220987</td>\n",
              "      <td>0.216981</td>\n",
              "      <td>1.000000</td>\n",
              "      <td>0.985033</td>\n",
              "    </tr>\n",
              "    <tr>\n",
              "      <th>slots_taken_sum</th>\n",
              "      <td>-0.120596</td>\n",
              "      <td>-0.002158</td>\n",
              "      <td>0.014675</td>\n",
              "      <td>0.310257</td>\n",
              "      <td>0.309799</td>\n",
              "      <td>0.203032</td>\n",
              "      <td>0.202152</td>\n",
              "      <td>0.219591</td>\n",
              "      <td>0.218259</td>\n",
              "      <td>0.985033</td>\n",
              "      <td>1.000000</td>\n",
              "    </tr>\n",
              "  </tbody>\n",
              "</table>\n",
              "</div>"
            ],
            "text/plain": [
              "                        postal_code  ...  slots_taken_sum\n",
              "postal_code                1.000000  ...        -0.120596\n",
              "n_daily_data_points        0.001195  ...        -0.002158\n",
              "dayofweek                  0.004671  ...         0.014675\n",
              "bluecars_taken_sum        -0.206847  ...         0.310257\n",
              "bluecars_returned_sum     -0.208021  ...         0.309799\n",
              "utilib_taken_sum          -0.132142  ...         0.203032\n",
              "utilib_returned_sum       -0.129783  ...         0.202152\n",
              "utilib_14_taken_sum       -0.150472  ...         0.219591\n",
              "utilib_14_returned_sum    -0.149341  ...         0.218259\n",
              "slots_freed_sum           -0.121932  ...         0.985033\n",
              "slots_taken_sum           -0.120596  ...         1.000000\n",
              "\n",
              "[11 rows x 11 columns]"
            ]
          },
          "metadata": {
            "tags": []
          },
          "execution_count": 115
        }
      ]
    },
    {
      "cell_type": "code",
      "metadata": {
        "id": "KMv9oi9B2sU7",
        "colab_type": "code",
        "colab": {
          "base_uri": "https://localhost:8080/",
          "height": 721
        },
        "outputId": "d067a370-961d-4ae1-ca7a-96253d961368"
      },
      "source": [
        "# We can plot a visualisation of the matrix for better clarity\n",
        "\n",
        "plt.figure(figsize=(10, 10)) \n",
        "\n",
        "# Creating our visualisation\n",
        "# \n",
        "sns.heatmap(corrMatrix, annot = True) \n",
        "\n",
        "#There is a high correlation between Blue cars taken and number of blue cars returned, utilib 14 taken and returned"
      ],
      "execution_count": null,
      "outputs": [
        {
          "output_type": "execute_result",
          "data": {
            "text/plain": [
              "<matplotlib.axes._subplots.AxesSubplot at 0x7f12aef5fb00>"
            ]
          },
          "metadata": {
            "tags": []
          },
          "execution_count": 116
        },
        {
          "output_type": "display_data",
          "data": {
            "image/png": "[encoded data removed]",
            "text/plain": [
              "<Figure size 720x720 with 2 Axes>"
            ]
          },
          "metadata": {
            "tags": []
          }
        }
      ]
    },
    {
      "cell_type": "code",
      "metadata": {
        "id": "9TwOlhQ_-ltc",
        "colab_type": "code",
        "colab": {
          "base_uri": "https://localhost:8080/",
          "height": 406
        },
        "outputId": "57ae6cad-89f3-4ed6-f2e5-86fd9362fc01"
      },
      "source": [
        " #Blue cars taken by day and postal code\n",
        " x=(df[['bluecars_taken_sum','day_type','postal_code']])\n",
        " x"
      ],
      "execution_count": null,
      "outputs": [
        {
          "output_type": "execute_result",
          "data": {
            "text/html": [
              "<div>\n",
              "<style scoped>\n",
              "    .dataframe tbody tr th:only-of-type {\n",
              "        vertical-align: middle;\n",
              "    }\n",
              "\n",
              "    .dataframe tbody tr th {\n",
              "        vertical-align: top;\n",
              "    }\n",
              "\n",
              "    .dataframe thead th {\n",
              "        text-align: right;\n",
              "    }\n",
              "</style>\n",
              "<table border=\"1\" class=\"dataframe\">\n",
              "  <thead>\n",
              "    <tr style=\"text-align: right;\">\n",
              "      <th></th>\n",
              "      <th>bluecars_taken_sum</th>\n",
              "      <th>day_type</th>\n",
              "      <th>postal_code</th>\n",
              "    </tr>\n",
              "  </thead>\n",
              "  <tbody>\n",
              "    <tr>\n",
              "      <th>0</th>\n",
              "      <td>110</td>\n",
              "      <td>weekday</td>\n",
              "      <td>75001</td>\n",
              "    </tr>\n",
              "    <tr>\n",
              "      <th>1</th>\n",
              "      <td>98</td>\n",
              "      <td>weekday</td>\n",
              "      <td>75001</td>\n",
              "    </tr>\n",
              "    <tr>\n",
              "      <th>2</th>\n",
              "      <td>138</td>\n",
              "      <td>weekday</td>\n",
              "      <td>75001</td>\n",
              "    </tr>\n",
              "    <tr>\n",
              "      <th>3</th>\n",
              "      <td>104</td>\n",
              "      <td>weekday</td>\n",
              "      <td>75001</td>\n",
              "    </tr>\n",
              "    <tr>\n",
              "      <th>4</th>\n",
              "      <td>114</td>\n",
              "      <td>weekday</td>\n",
              "      <td>75001</td>\n",
              "    </tr>\n",
              "    <tr>\n",
              "      <th>...</th>\n",
              "      <td>...</td>\n",
              "      <td>...</td>\n",
              "      <td>...</td>\n",
              "    </tr>\n",
              "    <tr>\n",
              "      <th>16080</th>\n",
              "      <td>15</td>\n",
              "      <td>weekday</td>\n",
              "      <td>95880</td>\n",
              "    </tr>\n",
              "    <tr>\n",
              "      <th>16081</th>\n",
              "      <td>19</td>\n",
              "      <td>weekend</td>\n",
              "      <td>95880</td>\n",
              "    </tr>\n",
              "    <tr>\n",
              "      <th>16082</th>\n",
              "      <td>33</td>\n",
              "      <td>weekend</td>\n",
              "      <td>95880</td>\n",
              "    </tr>\n",
              "    <tr>\n",
              "      <th>16083</th>\n",
              "      <td>11</td>\n",
              "      <td>weekday</td>\n",
              "      <td>95880</td>\n",
              "    </tr>\n",
              "    <tr>\n",
              "      <th>16084</th>\n",
              "      <td>2</td>\n",
              "      <td>weekday</td>\n",
              "      <td>95880</td>\n",
              "    </tr>\n",
              "  </tbody>\n",
              "</table>\n",
              "<p>16085 rows × 3 columns</p>\n",
              "</div>"
            ],
            "text/plain": [
              "       bluecars_taken_sum day_type  postal_code\n",
              "0                     110  weekday        75001\n",
              "1                      98  weekday        75001\n",
              "2                     138  weekday        75001\n",
              "3                     104  weekday        75001\n",
              "4                     114  weekday        75001\n",
              "...                   ...      ...          ...\n",
              "16080                  15  weekday        95880\n",
              "16081                  19  weekend        95880\n",
              "16082                  33  weekend        95880\n",
              "16083                  11  weekday        95880\n",
              "16084                   2  weekday        95880\n",
              "\n",
              "[16085 rows x 3 columns]"
            ]
          },
          "metadata": {
            "tags": []
          },
          "execution_count": 62
        }
      ]
    },
    {
      "cell_type": "markdown",
      "metadata": {
        "id": "R1ZCdIt0uzTI",
        "colab_type": "text"
      },
      "source": [
        "#6.Hypothesis testing\n",
        "a) Using Z-test\n",
        "Hypothesis is a claim that we are trying to investigate. The basis of the hypothesis that we will investigate is:  \n",
        "\n",
        "The management of Autolib are getting pressure from employees who want to take a day off over the weekend. The management is hesitant to allow this as they believe that the mean population of blue cars taken on weekdays is the same as those taken over the weekend. \n",
        "I have been tasked me to investigate this claim to gain evidence that there is no significance difference between the two, the employees think otherwise. This will strengthen their basis of argument as they believe the company need good number of employees to serve the high number of customers on the weekends (as this has only 2 days), while weekdays has 5 days. \n",
        "\n",
        "step1: We will create the hypothesis as below:\n",
        "Testing whether the mean of blue cars taken in weekdays is the same as blue cars taken over the weekend.\n",
        "\n",
        "Ho:blue cars taken weekdays-bluecars taken weekend=0 \n",
        "\n",
        "H1:blue cars taken weekdays-bluecars taken weekend!=0 \n",
        "\n",
        "step2: We will choose the appropriate statistical test\n",
        "In this case we will use Z-score two tailed test\n",
        "\n",
        "step 3: We will set our level of significance (alpha) to 0.05 \n",
        "\n",
        "Step 4: We will compare our level of significance with the p- value if p value is lower or equals to sigma, we will will reject the Null hypothesis, if its greater, we will fail to reject the Null hypothesis.\n",
        "\n",
        "step 5: Make conclusion of our decision"
      ]
    },
    {
      "cell_type": "markdown",
      "metadata": {
        "id": "mfgw1QEzjHPM",
        "colab_type": "text"
      },
      "source": [
        "i)Hypothesis 1\n",
        "\n",
        "Testing whether the mean of blue cars taken in weekdays is the same as blue cars taken over the weekend.\n",
        "\n",
        "Ho:blue cars taken weekdays-bluecars taken weekend=0\n",
        "\n",
        "H1:blue cars taken weekdays-bluecars taken weekend!=0"
      ]
    },
    {
      "cell_type": "code",
      "metadata": {
        "id": "O9yfXpc0-0-z",
        "colab_type": "code",
        "colab": {
          "base_uri": "https://localhost:8080/",
          "height": 142
        },
        "outputId": "9079220a-e4a7-411e-82b2-becc4a894194"
      },
      "source": [
        "#Getting the population mean for Blue cars taken on weekdays and weekend\n",
        "\n",
        "pd.pivot_table(df_out,index=['day_type'],values='bluecars_taken_sum',aggfunc='mean')\n",
        "\n",
        "# mean of blue cars taken on weekday\t45.56055\n",
        "#mean of blue cars taken on weekend\t57.718529\n"
      ],
      "execution_count": 34,
      "outputs": [
        {
          "output_type": "execute_result",
          "data": {
            "text/html": [
              "<div>\n",
              "<style scoped>\n",
              "    .dataframe tbody tr th:only-of-type {\n",
              "        vertical-align: middle;\n",
              "    }\n",
              "\n",
              "    .dataframe tbody tr th {\n",
              "        vertical-align: top;\n",
              "    }\n",
              "\n",
              "    .dataframe thead th {\n",
              "        text-align: right;\n",
              "    }\n",
              "</style>\n",
              "<table border=\"1\" class=\"dataframe\">\n",
              "  <thead>\n",
              "    <tr style=\"text-align: right;\">\n",
              "      <th></th>\n",
              "      <th>bluecars_taken_sum</th>\n",
              "    </tr>\n",
              "    <tr>\n",
              "      <th>day_type</th>\n",
              "      <th></th>\n",
              "    </tr>\n",
              "  </thead>\n",
              "  <tbody>\n",
              "    <tr>\n",
              "      <th>weekday</th>\n",
              "      <td>45.560557</td>\n",
              "    </tr>\n",
              "    <tr>\n",
              "      <th>weekend</th>\n",
              "      <td>57.718529</td>\n",
              "    </tr>\n",
              "  </tbody>\n",
              "</table>\n",
              "</div>"
            ],
            "text/plain": [
              "          bluecars_taken_sum\n",
              "day_type                    \n",
              "weekday            45.560557\n",
              "weekend            57.718529"
            ]
          },
          "metadata": {
            "tags": []
          },
          "execution_count": 34
        }
      ]
    },
    {
      "cell_type": "code",
      "metadata": {
        "id": "6BqJBQ8X-8Vp",
        "colab_type": "code",
        "colab": {
          "base_uri": "https://localhost:8080/",
          "height": 34
        },
        "outputId": "a4b399f0-e24d-47cb-e49e-e0c6f0559385"
      },
      "source": [
        "#Printing blue cars taken on weekdays \n",
        "\n",
        "bluecars_taken_weekdays=df_out[df_out['day_type']=='weekday']['bluecars_taken_sum'].values\n",
        "bluecars_taken_weekdays "
      ],
      "execution_count": 35,
      "outputs": [
        {
          "output_type": "execute_result",
          "data": {
            "text/plain": [
              "array([19, 10, 11, ..., 15, 15, 11])"
            ]
          },
          "metadata": {
            "tags": []
          },
          "execution_count": 35
        }
      ]
    },
    {
      "cell_type": "code",
      "metadata": {
        "id": "RzF-4hSoMXVj",
        "colab_type": "code",
        "colab": {
          "base_uri": "https://localhost:8080/",
          "height": 34
        },
        "outputId": "27dd10d9-e350-4b88-f181-8a5c3e8bb262"
      },
      "source": [
        "#Printing blue cars taken on weekend\n",
        "\n",
        "bluecars_taken_weekend=df_out[df_out['day_type']=='weekend']['bluecars_taken_sum'].values\n",
        "bluecars_taken_weekend "
      ],
      "execution_count": 36,
      "outputs": [
        {
          "output_type": "execute_result",
          "data": {
            "text/plain": [
              "array([28, 24, 27, ..., 34, 19, 33])"
            ]
          },
          "metadata": {
            "tags": []
          },
          "execution_count": 36
        }
      ]
    },
    {
      "cell_type": "code",
      "metadata": {
        "id": "245jJfvLMmvq",
        "colab_type": "code",
        "colab": {
          "base_uri": "https://localhost:8080/",
          "height": 425
        },
        "outputId": "c3d19137-7e11-42a5-bd3a-ef86941a6bdc"
      },
      "source": [
        "# Getting a random sample size of 300 blue cars taken on weekdays\n",
        "\n",
        "sampleofbluecars_taken_weekdays=bluecars_taken_weekdays[np.argsort(np.random.random_sample(len(bluecars_taken_weekdays)))[:300]]\n",
        "\n",
        "sampleofbluecars_taken_weekdays "
      ],
      "execution_count": 37,
      "outputs": [
        {
          "output_type": "execute_result",
          "data": {
            "text/plain": [
              "array([ 12, 156,  10,  57, 130,  88, 131,  85,  98, 174,  27,  14,  70,\n",
              "       101,  13,  28,   5,  13, 185,  28,   4,   9,   7,  19,   2,   8,\n",
              "        81,  12,  17,  21, 179,  24,  20,  29,  23,  58, 120,  34,  73,\n",
              "        21,  77,  27,  13,  20,  55,  38, 160,  11, 124,  83,  88,  52,\n",
              "       281,  14,  24,  28, 105,  61,  43,  72, 120, 102,  36,  36,  99,\n",
              "         8,   5,  46,  21,  38,  14,  27,  12,  40,  46,  38,  38,  47,\n",
              "       100,   9,  70,  13,  32,  94,   2,  73,  31,  87, 175,   7,  23,\n",
              "         4, 132,  19,  94,  91,  42,  88,  83,  63,  36,  38,   4, 154,\n",
              "       125,  82, 118,  16,  82,  45, 191,  52,  13,   3,  34, 136, 150,\n",
              "        30,   9,  45,  17,  51,  17,  11,  14,  36,  19,  61,  21,  24,\n",
              "        41,  29,  28,  73,  41, 148,  17,  20,  17,  39,   7,  80,  81,\n",
              "         7,  13,  14,   7,  34,  56,   1,  35,  38,  38,  27,  81,  29,\n",
              "        24, 119,   1,  63,  81,  97,  15,  49,  94, 102,  19,   1,  29,\n",
              "        33,  13,  28,  23,   7,   1,  31,  50,  14,  42,  14,  48,  15,\n",
              "        11,  19,  55,  13,  22,  17,  51,  21, 111,  19,  12,  17,   9,\n",
              "        12,  46,  15,  22,   7, 144,  23,  38,  11,  12,  26,  19,  61,\n",
              "       106,  88,  54,  47,  47,  22,  51,   3, 279,  73,  11,  24,  28,\n",
              "       144,  60,  71,  23, 235,  34,  29,   7,  68,  26,  17, 157,  14,\n",
              "        30,  51,  21,  32,  12,  25,  83,  72,  79,  16,  39,  22,  40,\n",
              "       100,   5, 170,  17,  18,  68,  31,  15,  24,  85,  38,   7, 107,\n",
              "       107,  64,  20,  15,  24,  29,  75,  92,  27, 103,  27,  55, 128,\n",
              "       132,  44,  62,   9, 118,   1,  25,  28,  25,  55,  19,  22,   3,\n",
              "        62,  38,  56,  23,  30,  11,  14,  69,  50,  27,  85,  27,  25,\n",
              "        23])"
            ]
          },
          "metadata": {
            "tags": []
          },
          "execution_count": 37
        }
      ]
    },
    {
      "cell_type": "code",
      "metadata": {
        "id": "_zOfo0bTMmq9",
        "colab_type": "code",
        "colab": {
          "base_uri": "https://localhost:8080/",
          "height": 425
        },
        "outputId": "3a4c5786-db37-483f-9060-15887d605266"
      },
      "source": [
        "# Getting a random sample size of 300 blue cars taken on weekend\n",
        "\n",
        "sampleofbluecars_taken_weekend=bluecars_taken_weekend[np.argsort(np.random.random_sample(len(bluecars_taken_weekend)))[:300]]\n",
        "\n",
        "sampleofbluecars_taken_weekend"
      ],
      "execution_count": 38,
      "outputs": [
        {
          "output_type": "execute_result",
          "data": {
            "text/plain": [
              "array([ 36, 136,  71,  59, 145,  85,  87,  40,  21,  47, 103, 128,  94,\n",
              "        42,  64, 171,  11, 100,  51,  47,  10, 112,  72,  24, 102,  26,\n",
              "       118,  84,  50,  56,  88,  92,  15,  50, 137,  62,  49,   7,  77,\n",
              "        36,  15,  38,  65,  89,  54,  19, 154,  80,  90,   9,  16, 130,\n",
              "       108, 171,  54,  20, 165, 221, 134,  21,  40, 189,   6,  13, 106,\n",
              "        50,  68,  22,  32,   1,   9,  22,  26,  18, 125,  10,  12,  67,\n",
              "        23, 137,  27,  23,  82,  86,  27, 143,  24,  36,  50,  28, 136,\n",
              "       147,  65,  14,  23,  79, 155,  13, 108,  52,  40,  47,  95,  61,\n",
              "        47,  40, 108,  50,  65,  72,  43, 116,  30,   9,  21,  26, 113,\n",
              "        20,  14,  24,  11, 105,  17,   7, 159,  95,  52,  10,  19, 117,\n",
              "       210,  24,  33,  29, 142,  98,  16, 164, 139,  16,  29,  28,  84,\n",
              "        42, 121,  13,  46, 103, 106,  34,  20,  21,   3, 169,  97,  20,\n",
              "       163,  35,  12,  44,  58,  35,  21,  27, 117, 194, 211,  24,  87,\n",
              "        28, 187,  33, 134,  10,  63,   2,   5,  49, 109,  26,  49,  58,\n",
              "       148,  39,  22,  61,  50,  53, 107,  19,  38,  18,  60,  97,  99,\n",
              "         8, 170,  31,  14, 129,  47,  73,  33,  92, 132,  45,  41,  14,\n",
              "        12,  48,  69,  52,   8,  72,  34,  88,   3,  17,  19, 111, 113,\n",
              "        49,  14,  14,  87,  43,  18, 170,  33,   7, 132,  94,  34,  16,\n",
              "        58,  14,   3,  17, 121,  29,  21, 143, 161,  83,  70, 147, 146,\n",
              "        26,  41,  62,  58,  32,  89,  17,  14,  35,  15,  45,  21,  31,\n",
              "        10, 114, 112, 129,  18,  37,  45,   4, 110,  18, 165,  10,   0,\n",
              "        31,  46,  25,  32,  56,  97,  33,  34,  74,  63,  74,  40,  20,\n",
              "        41,   1,  69,  37,  45,  55,  65,  49,   6,  64, 118,  44,  63,\n",
              "        90])"
            ]
          },
          "metadata": {
            "tags": []
          },
          "execution_count": 38
        }
      ]
    },
    {
      "cell_type": "code",
      "metadata": {
        "id": "lA-PFYNnNXIX",
        "colab_type": "code",
        "colab": {}
      },
      "source": [
        "#Calculating variance of blue cars population and mean of sample blue cars for weekdays and weekend\n",
        "\n",
        "varianceofPopbluecars_taken_weekdays=np.var(bluecars_taken_weekdays) \n",
        "varianceofPopbluecars_taken_weekend=np.var(bluecars_taken_weekend)\n",
        "\n",
        "\n",
        "meanOfSampcars_weekdays=np.mean(sampleofbluecars_taken_weekdays)\n",
        "meanOfSampcars_weekend=np.mean(sampleofbluecars_taken_weekend)\n",
        "\n",
        "n1=300 \n",
        "n2=300"
      ],
      "execution_count": 39,
      "outputs": []
    },
    {
      "cell_type": "code",
      "metadata": {
        "id": "7eyMnegcNXSG",
        "colab_type": "code",
        "colab": {
          "base_uri": "https://localhost:8080/",
          "height": 34
        },
        "outputId": "2f76ede5-342e-40c0-d6f9-f9efca457854"
      },
      "source": [
        " #Calculating the Z-test which is the observed value\n",
        " #We have population parameters we can calculate the variance of the population\n",
        " #Hence calculating the z value which is our observed values\n",
        " #Note mu1-mu1=0 so we don't need to calculate it, this comes from our hypothesis testing Ho\n",
        "\n",
        "import math \n",
        "(meanOfSampcars_weekdays-meanOfSampcars_weekend) - (0) / (math.sqrt((varianceofPopbluecars_taken_weekdays/300)+(varianceofPopbluecars_taken_weekend/300)))"
      ],
      "execution_count": 44,
      "outputs": [
        {
          "output_type": "execute_result",
          "data": {
            "text/plain": [
              "-12.370000000000005"
            ]
          },
          "metadata": {
            "tags": []
          },
          "execution_count": 44
        }
      ]
    },
    {
      "cell_type": "code",
      "metadata": {
        "id": "Dlq6FUyQUsBJ",
        "colab_type": "code",
        "colab": {
          "base_uri": "https://localhost:8080/",
          "height": 51
        },
        "outputId": "6c4dbe8b-d3b3-4668-cc9c-d6bea7f2c77d"
      },
      "source": [
        "#calculating p value\n",
        "zscore=-12.37000\n",
        "pval = stats.norm.cdf(zscore)\n",
        "print(pval)\n",
        "pd.options.display.float_format='{:.8f}'.format \n",
        "\n",
        "#alpha of 0.05\n",
        "if pval < 0.05:\n",
        "  print('Reject null hypothesis')\n",
        "else:\n",
        "  print('Fail to reject hypothesis')"
      ],
      "execution_count": 46,
      "outputs": [
        {
          "output_type": "stream",
          "text": [
            "1.8991070305508434e-35\n",
            "Reject null hypothesis\n"
          ],
          "name": "stdout"
        }
      ]
    },
    {
      "cell_type": "markdown",
      "metadata": {
        "id": "CRuRGh6aja76",
        "colab_type": "text"
      },
      "source": [
        "ii)Hypothesis 2\n",
        "\n",
        "Testing population mean for Blue cars taken from postal code 92100 is greater than those taken form postal code 91330 \n",
        "\n",
        "Ho:blue cars taken from postal code 92100>=bluecars taken from postal code 91330\n",
        "\n",
        "H1:blue cars taken from postal code 92100< bluecars taken from postal code 91330"
      ]
    },
    {
      "cell_type": "code",
      "metadata": {
        "id": "YDOWBBmKZBZ9",
        "colab_type": "code",
        "colab": {
          "base_uri": "https://localhost:8080/",
          "height": 450
        },
        "outputId": "c01bff83-e0d0-4995-e99d-6c576a58f4d1"
      },
      "source": [
        "#Getting the population mean for Blue cars taken from postal code 92100 is greater than those taken form postal code 91330 \n",
        "\n",
        "pd.pivot_table(df_out,index=['postal_code'],values='bluecars_taken_sum',aggfunc='mean')\n",
        "\n",
        "# mean of blue cars taken from postal code 91330 \t12.18461538 \n",
        "#mean of blue cars taken from postal code 92100 weekend\t258.2 "
      ],
      "execution_count": 48,
      "outputs": [
        {
          "output_type": "execute_result",
          "data": {
            "text/html": [
              "<div>\n",
              "<style scoped>\n",
              "    .dataframe tbody tr th:only-of-type {\n",
              "        vertical-align: middle;\n",
              "    }\n",
              "\n",
              "    .dataframe tbody tr th {\n",
              "        vertical-align: top;\n",
              "    }\n",
              "\n",
              "    .dataframe thead th {\n",
              "        text-align: right;\n",
              "    }\n",
              "</style>\n",
              "<table border=\"1\" class=\"dataframe\">\n",
              "  <thead>\n",
              "    <tr style=\"text-align: right;\">\n",
              "      <th></th>\n",
              "      <th>bluecars_taken_sum</th>\n",
              "    </tr>\n",
              "    <tr>\n",
              "      <th>postal_code</th>\n",
              "      <th></th>\n",
              "    </tr>\n",
              "  </thead>\n",
              "  <tbody>\n",
              "    <tr>\n",
              "      <th>91330</th>\n",
              "      <td>12.18461538</td>\n",
              "    </tr>\n",
              "    <tr>\n",
              "      <th>91370</th>\n",
              "      <td>14.37692308</td>\n",
              "    </tr>\n",
              "    <tr>\n",
              "      <th>91400</th>\n",
              "      <td>9.01538462</td>\n",
              "    </tr>\n",
              "    <tr>\n",
              "      <th>92000</th>\n",
              "      <td>163.87610619</td>\n",
              "    </tr>\n",
              "    <tr>\n",
              "      <th>92100</th>\n",
              "      <td>258.25000000</td>\n",
              "    </tr>\n",
              "    <tr>\n",
              "      <th>...</th>\n",
              "      <td>...</td>\n",
              "    </tr>\n",
              "    <tr>\n",
              "      <th>94700</th>\n",
              "      <td>34.74615385</td>\n",
              "    </tr>\n",
              "    <tr>\n",
              "      <th>94800</th>\n",
              "      <td>82.87596899</td>\n",
              "    </tr>\n",
              "    <tr>\n",
              "      <th>95100</th>\n",
              "      <td>24.69230769</td>\n",
              "    </tr>\n",
              "    <tr>\n",
              "      <th>95870</th>\n",
              "      <td>15.23076923</td>\n",
              "    </tr>\n",
              "    <tr>\n",
              "      <th>95880</th>\n",
              "      <td>16.46923077</td>\n",
              "    </tr>\n",
              "  </tbody>\n",
              "</table>\n",
              "<p>79 rows × 1 columns</p>\n",
              "</div>"
            ],
            "text/plain": [
              "             bluecars_taken_sum\n",
              "postal_code                    \n",
              "91330               12.18461538\n",
              "91370               14.37692308\n",
              "91400                9.01538462\n",
              "92000              163.87610619\n",
              "92100              258.25000000\n",
              "...                         ...\n",
              "94700               34.74615385\n",
              "94800               82.87596899\n",
              "95100               24.69230769\n",
              "95870               15.23076923\n",
              "95880               16.46923077\n",
              "\n",
              "[79 rows x 1 columns]"
            ]
          },
          "metadata": {
            "tags": []
          },
          "execution_count": 48
        }
      ]
    },
    {
      "cell_type": "code",
      "metadata": {
        "id": "8q1ywHN9cq7Z",
        "colab_type": "code",
        "colab": {
          "base_uri": "https://localhost:8080/",
          "height": 238
        },
        "outputId": "0cdee35c-bfc1-4599-8bdd-5de35603087c"
      },
      "source": [
        "#Changing postal code dtype from interger to string\n",
        "df_out['postal_code']=df_out.astype(str)\n",
        "df_out\n",
        "\n",
        "df_out.dtypes"
      ],
      "execution_count": 63,
      "outputs": [
        {
          "output_type": "execute_result",
          "data": {
            "text/plain": [
              "postal_code               object\n",
              "n_daily_data_points        int64\n",
              "dayofweek                  int64\n",
              "day_type                  object\n",
              "bluecars_taken_sum         int64\n",
              "bluecars_returned_sum      int64\n",
              "utilib_taken_sum           int64\n",
              "utilib_returned_sum        int64\n",
              "utilib_14_taken_sum        int64\n",
              "utilib_14_returned_sum     int64\n",
              "slots_freed_sum            int64\n",
              "slots_taken_sum            int64\n",
              "dtype: object"
            ]
          },
          "metadata": {
            "tags": []
          },
          "execution_count": 63
        }
      ]
    },
    {
      "cell_type": "code",
      "metadata": {
        "id": "cLyz1ri3ZBgz",
        "colab_type": "code",
        "colab": {
          "base_uri": "https://localhost:8080/",
          "height": 34
        },
        "outputId": "1ef94690-7a20-41e8-ab56-e962d922ab2d"
      },
      "source": [
        "#Printing blue cars taken from postal code 92100 \n",
        "\n",
        "bluecars_x=df_out[df_out['postal_code']=='92100']['bluecars_taken_sum'].values\n",
        "bluecars_x"
      ],
      "execution_count": 64,
      "outputs": [
        {
          "output_type": "execute_result",
          "data": {
            "text/plain": [
              "array([284, 233, 282, 234])"
            ]
          },
          "metadata": {
            "tags": []
          },
          "execution_count": 64
        }
      ]
    },
    {
      "cell_type": "code",
      "metadata": {
        "id": "W78klicVZBna",
        "colab_type": "code",
        "colab": {
          "base_uri": "https://localhost:8080/",
          "height": 34
        },
        "outputId": "52982ef8-3b37-4da7-d4ae-f68724203f65"
      },
      "source": [
        "#Printing blue cars taken from  postal code 91330\n",
        "\n",
        "bluecars_y=df_out[df_out['postal_code']=='91330']['bluecars_taken_sum'].values\n",
        "bluecars_x"
      ],
      "execution_count": 65,
      "outputs": [
        {
          "output_type": "execute_result",
          "data": {
            "text/plain": [
              "array([284, 233, 282, 234])"
            ]
          },
          "metadata": {
            "tags": []
          },
          "execution_count": 65
        }
      ]
    },
    {
      "cell_type": "code",
      "metadata": {
        "id": "DPm0E9fGZBv6",
        "colab_type": "code",
        "colab": {
          "base_uri": "https://localhost:8080/",
          "height": 34
        },
        "outputId": "39e49580-5768-4a26-e683-c6ade10f6404"
      },
      "source": [
        "# Getting a random sample size of 10 blue cars taken from 92100\n",
        "\n",
        "samplex=bluecars_x[np.argsort(np.random.random_sample(len(bluecars_x)))[:10]]\n",
        "\n",
        "samplex"
      ],
      "execution_count": 71,
      "outputs": [
        {
          "output_type": "execute_result",
          "data": {
            "text/plain": [
              "array([234, 282, 233, 284])"
            ]
          },
          "metadata": {
            "tags": []
          },
          "execution_count": 71
        }
      ]
    },
    {
      "cell_type": "code",
      "metadata": {
        "id": "BRPBU2myZB28",
        "colab_type": "code",
        "colab": {
          "base_uri": "https://localhost:8080/",
          "height": 34
        },
        "outputId": "be4a6c4d-125f-4153-a0cc-41594c8fab04"
      },
      "source": [
        "# Getting a random sample size of 10 blue cars taken from 91330\n",
        "\n",
        "sampley=bluecars_y[np.argsort(np.random.random_sample(len(bluecars_y)))[:10]]\n",
        "\n",
        "sampley"
      ],
      "execution_count": 72,
      "outputs": [
        {
          "output_type": "execute_result",
          "data": {
            "text/plain": [
              "array([20,  3,  6, 16,  3,  2,  9, 16,  3,  2])"
            ]
          },
          "metadata": {
            "tags": []
          },
          "execution_count": 72
        }
      ]
    },
    {
      "cell_type": "code",
      "metadata": {
        "id": "cxFX8JKtZCEu",
        "colab_type": "code",
        "colab": {}
      },
      "source": [
        "#Calculating variance of blue cars population and mean of sample blue cars for weekdays and weekend\n",
        "\n",
        "varpopx=np.var(bluecars_x) \n",
        "varpopy=np.var(bluecars_y)\n",
        "\n",
        "\n",
        "meansamplex=np.mean(samplex)\n",
        "meansampley=np.mean(sampley)\n",
        "\n",
        "n1=10 \n",
        "n2=10"
      ],
      "execution_count": 73,
      "outputs": []
    },
    {
      "cell_type": "code",
      "metadata": {
        "id": "jwA6UUZcZCBJ",
        "colab_type": "code",
        "colab": {
          "base_uri": "https://localhost:8080/",
          "height": 34
        },
        "outputId": "528f9d92-3989-4896-ebb2-5eb5b30ef126"
      },
      "source": [
        " #Calculating the Z-test which is the observed value\n",
        " #We have population parameters we can calculate the variance of the population\n",
        " #Hence calculating the z value which is our observed values\n",
        " #Note mu1-mu1=0 so we don't need to calculate it, this comes from our hypothesis testing Ho\n",
        "\n",
        "import math \n",
        "(meansamplex-meansampley) - (0) / (math.sqrt((varpopx/10)+(varpopy/10)))"
      ],
      "execution_count": 74,
      "outputs": [
        {
          "output_type": "execute_result",
          "data": {
            "text/plain": [
              "250.25"
            ]
          },
          "metadata": {
            "tags": []
          },
          "execution_count": 74
        }
      ]
    },
    {
      "cell_type": "code",
      "metadata": {
        "id": "Hzh8XGSjiWVx",
        "colab_type": "code",
        "colab": {
          "base_uri": "https://localhost:8080/",
          "height": 51
        },
        "outputId": "42ed1683-e274-4724-9d26-15ea92e178e8"
      },
      "source": [
        "#calculating p value\n",
        "zscore=250.25\n",
        "pval = stats.norm.cdf(zscore)\n",
        "print(pval)\n",
        "\n",
        "#alpha of 0.05\n",
        "if pval < 0.05:\n",
        "  print('Reject null hypothesis')\n",
        "else:\n",
        "  print('Fail to reject hypothesis')"
      ],
      "execution_count": 75,
      "outputs": [
        {
          "output_type": "stream",
          "text": [
            "1.0\n",
            "Fail to reject hypothesis\n"
          ],
          "name": "stdout"
        }
      ]
    },
    {
      "cell_type": "markdown",
      "metadata": {
        "id": "ic-bhPalD3K_",
        "colab_type": "text"
      },
      "source": [
        "\n",
        "The p-value is 1.0 this is greater than alpha which is \n",
        "0.05 We therefore have enough evidence that the mean of cars taken from postal code 92100 is greater than those taken from postal code 91330"
      ]
    }
  ]
}